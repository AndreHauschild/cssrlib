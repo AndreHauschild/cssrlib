{
 "cells": [
  {
   "cell_type": "markdown",
   "id": "a4123944",
   "metadata": {
    "id": "a4123944"
   },
   "source": [
    "# Introduction to the high accuracy positioning with open PPP/PPP-RTK services"
   ]
  },
  {
   "cell_type": "markdown",
   "id": "ee5d7f23",
   "metadata": {
    "id": "ee5d7f23"
   },
   "source": [
    "## Introduction to CSSRlib\n",
    "\n",
    "*CSSRLIB* is a open toolkit in Python for high accuracy GNSS positioning. It supports SSR (State-Space Representation) based potitioning such as PPP (Precise Point Positioning) or PPP-RTK (Realtime Kinematic), and also supports RTK. The goal of the CSSRlib toolkit is to provide an easy-to-understand open implementation to learn PPP/PPP-RTK positioning provided by satellite-based open PPP/PPP-RTK services such as QZSS CLAS, Galileo HAS, and BeiDou 3 PPP. It also supports ground based open service by IGS. The code is based on RTKlib.\n",
    "\n",
    "It supports the following open format:\n",
    "\n",
    "- The observation data and the ephemeis in RINEX\n",
    "- The PPP/PPP-RTK correction data in RTCM SSR, IGS SSR, Compact SSR, ...\n",
    "- The precise orbit/clock data in SP3 format.\n"
   ]
  },
  {
   "cell_type": "markdown",
   "id": "82da5f11",
   "metadata": {
    "id": "82da5f11"
   },
   "source": [
    "## Installation\n",
    "\n",
    "You can install CSSRlib using pip or clone the repo from Github.\n",
    "\n"
   ]
  },
  {
   "cell_type": "code",
   "execution_count": 1,
   "id": "gIGxzxg9gPuR",
   "metadata": {
    "colab": {
     "base_uri": "https://localhost:8080/"
    },
    "id": "gIGxzxg9gPuR",
    "outputId": "a2efe066-1f28-45c0-add0-9b6f686a26c5"
   },
   "outputs": [
    {
     "name": "stdout",
     "output_type": "stream",
     "text": [
      "Cloning into 'cssrlib'...\n",
      "remote: Enumerating objects: 2274, done.\u001b[K\n",
      "remote: Counting objects: 100% (730/730), done.\u001b[K\n",
      "remote: Compressing objects: 100% (226/226), done.\u001b[K\n",
      "remote: Total 2274 (delta 599), reused 529 (delta 494), pack-reused 1544\u001b[K\n",
      "Receiving objects: 100% (2274/2274), 12.06 MiB | 13.13 MiB/s, done.\n",
      "Resolving deltas: 100% (1408/1408), done.\n"
     ]
    }
   ],
   "source": [
    "# %pip install cssrlib   # install released version\n",
    "\n",
    "# load most recent code to local folder for easier visibility\n",
    "!git clone https://github.com/hirokawa/cssrlib.git\n",
    "!mv cssrlib/src/cssrlib/*.* cssrlib"
   ]
  },
  {
   "cell_type": "markdown",
   "id": "PKWUV4K0iWJm",
   "metadata": {
    "id": "PKWUV4K0iWJm"
   },
   "source": [
    "Additional python packages are required as prerequisites and can be installed via the following commands.  Note that the cartopy package is not available in Windows but is used only for plotting the results."
   ]
  },
  {
   "cell_type": "code",
   "execution_count": 2,
   "id": "bUmrxVJrgkUF",
   "metadata": {
    "colab": {
     "base_uri": "https://localhost:8080/"
    },
    "id": "bUmrxVJrgkUF",
    "outputId": "7542c218-9395-4d69-ec4f-26341be93312"
   },
   "outputs": [
    {
     "name": "stdout",
     "output_type": "stream",
     "text": [
      "Collecting bitstruct\n",
      "  Downloading bitstruct-8.17.0.tar.gz (35 kB)\n",
      "  Preparing metadata (setup.py) ... \u001b[?25l\u001b[?25hdone\n",
      "Collecting galois\n",
      "  Downloading galois-0.3.5-py3-none-any.whl (4.2 MB)\n",
      "\u001b[2K     \u001b[90m━━━━━━━━━━━━━━━━━━━━━━━━━━━━━━━━━━━━━━━━\u001b[0m \u001b[32m4.2/4.2 MB\u001b[0m \u001b[31m14.4 MB/s\u001b[0m eta \u001b[36m0:00:00\u001b[0m\n",
      "\u001b[?25hRequirement already satisfied: numpy<1.25,>=1.21.0 in /usr/local/lib/python3.10/dist-packages (from galois) (1.23.5)\n",
      "Requirement already satisfied: numba<0.58,>=0.55 in /usr/local/lib/python3.10/dist-packages (from galois) (0.56.4)\n",
      "Requirement already satisfied: typing-extensions>=4.0.0 in /usr/local/lib/python3.10/dist-packages (from galois) (4.5.0)\n",
      "Requirement already satisfied: llvmlite<0.40,>=0.39.0dev0 in /usr/local/lib/python3.10/dist-packages (from numba<0.58,>=0.55->galois) (0.39.1)\n",
      "Requirement already satisfied: setuptools in /usr/local/lib/python3.10/dist-packages (from numba<0.58,>=0.55->galois) (67.7.2)\n",
      "Building wheels for collected packages: bitstruct\n",
      "  Building wheel for bitstruct (setup.py) ... \u001b[?25l\u001b[?25hdone\n",
      "  Created wheel for bitstruct: filename=bitstruct-8.17.0-cp310-cp310-linux_x86_64.whl size=64216 sha256=478aa14ac257d5782dc742e5f977ca7c2d82ea14f4c104c356fb82fbd623092f\n",
      "  Stored in directory: /root/.cache/pip/wheels/9e/65/1c/1d738fbe145371947d129a90e926ccd0abeb07e70b9fa5f052\n",
      "Successfully built bitstruct\n",
      "Installing collected packages: bitstruct, galois\n",
      "Successfully installed bitstruct-8.17.0 galois-0.3.5\n",
      "Collecting cartopy\n",
      "  Downloading Cartopy-0.22.0-cp310-cp310-manylinux_2_17_x86_64.manylinux2014_x86_64.whl (11.8 MB)\n",
      "\u001b[2K     \u001b[90m━━━━━━━━━━━━━━━━━━━━━━━━━━━━━━━━━━━━━━━━\u001b[0m \u001b[32m11.8/11.8 MB\u001b[0m \u001b[31m6.4 MB/s\u001b[0m eta \u001b[36m0:00:00\u001b[0m\n",
      "\u001b[?25hRequirement already satisfied: numpy>=1.21 in /usr/local/lib/python3.10/dist-packages (from cartopy) (1.23.5)\n",
      "Requirement already satisfied: matplotlib>=3.4 in /usr/local/lib/python3.10/dist-packages (from cartopy) (3.7.1)\n",
      "Requirement already satisfied: shapely>=1.7 in /usr/local/lib/python3.10/dist-packages (from cartopy) (2.0.1)\n",
      "Requirement already satisfied: packaging>=20 in /usr/local/lib/python3.10/dist-packages (from cartopy) (23.1)\n",
      "Requirement already satisfied: pyshp>=2.1 in /usr/local/lib/python3.10/dist-packages (from cartopy) (2.3.1)\n",
      "Requirement already satisfied: pyproj>=3.1.0 in /usr/local/lib/python3.10/dist-packages (from cartopy) (3.6.0)\n",
      "Requirement already satisfied: contourpy>=1.0.1 in /usr/local/lib/python3.10/dist-packages (from matplotlib>=3.4->cartopy) (1.1.0)\n",
      "Requirement already satisfied: cycler>=0.10 in /usr/local/lib/python3.10/dist-packages (from matplotlib>=3.4->cartopy) (0.11.0)\n",
      "Requirement already satisfied: fonttools>=4.22.0 in /usr/local/lib/python3.10/dist-packages (from matplotlib>=3.4->cartopy) (4.42.1)\n",
      "Requirement already satisfied: kiwisolver>=1.0.1 in /usr/local/lib/python3.10/dist-packages (from matplotlib>=3.4->cartopy) (1.4.5)\n",
      "Requirement already satisfied: pillow>=6.2.0 in /usr/local/lib/python3.10/dist-packages (from matplotlib>=3.4->cartopy) (9.4.0)\n",
      "Requirement already satisfied: pyparsing>=2.3.1 in /usr/local/lib/python3.10/dist-packages (from matplotlib>=3.4->cartopy) (3.1.1)\n",
      "Requirement already satisfied: python-dateutil>=2.7 in /usr/local/lib/python3.10/dist-packages (from matplotlib>=3.4->cartopy) (2.8.2)\n",
      "Requirement already satisfied: certifi in /usr/local/lib/python3.10/dist-packages (from pyproj>=3.1.0->cartopy) (2023.7.22)\n",
      "Requirement already satisfied: six>=1.5 in /usr/local/lib/python3.10/dist-packages (from python-dateutil>=2.7->matplotlib>=3.4->cartopy) (1.16.0)\n",
      "Installing collected packages: cartopy\n",
      "Successfully installed cartopy-0.22.0\n"
     ]
    }
   ],
   "source": [
    "# %pip install notebook numpy matplotlib  # Already installed in Colab but may be needed if running locally\n",
    "\n",
    "%pip install bitstruct galois\n",
    "%pip install cartopy                      # Comment this line out if running in Windows"
   ]
  },
  {
   "cell_type": "markdown",
   "id": "0bbf3e8a",
   "metadata": {
    "id": "0bbf3e8a"
   },
   "source": [
    "## Structure of CSSRlib\n",
    "\n",
    "\n",
    "CSSRlib consits of multiple python files/modules as follows:\n",
    "\n",
    "- Contructor (`__init__`): initialize the variables used in CSSRlib.\n",
    "- `gnss`: Common subroutines and classes used in CSSRlib.\n",
    "- `ephemeris`: calculate the position of satellite using ephemeris.\n",
    "- `peph`: calculate the position of satellite using precise ephemeris in SP3 format．\n",
    "- `tlesim`: calculate the position of satellite using TLE.\n",
    "- `plot`: subroutines to visualize.\n",
    "\n",
    "- `rinex`: parse RINEX obs/nav file.\n",
    "- `cssrlib`: parse PPP/PPP-RTK correction messages in Compact SSR (CSSR) format.\n",
    "- `cssr_has`: parse PPP correction messages for Galileo HAS format.\n",
    "- `cssr_bds`: parse PPP correction messages for BeiDou PPP format.\n",
    "- `cssr_pvs`: parse PPP correction messages for PPP via SouthPAN (PVS) format (experimental).\n",
    "- `rtcm`: parse RTCM 3 messsages.\n",
    "- `ppp`: functions for PPP positioning\n",
    "- `pppssr`: PPP/PPP-AR positioning\n",
    "- `ppprtk`: PPP-RTK positioning\n",
    "- `pntpos`: standalone positioning\n",
    "- `rtk`: RTK positioning\n",
    "- `rawnav`: decoder for raw navigation message\n",
    "- `mlambda`: Ambiguity resolution using modified LAMBDA method\n",
    "- `sbas`: SBAS (L1/L5) message decoder\n"
   ]
  },
  {
   "cell_type": "markdown",
   "id": "jmERUADzi3T_",
   "metadata": {
    "id": "jmERUADzi3T_"
   },
   "source": [
    "## Load Sample Data and Test Scripts from Github\n",
    "\n",
    "Sample data and test scripts are provided in a separate Github respository"
   ]
  },
  {
   "cell_type": "code",
   "execution_count": 4,
   "id": "mX6DLsZDvEMX",
   "metadata": {
    "colab": {
     "base_uri": "https://localhost:8080/"
    },
    "id": "mX6DLsZDvEMX",
    "outputId": "ed386e82-cf75-450c-d23c-8d76e795a6cd"
   },
   "outputs": [
    {
     "name": "stderr",
     "output_type": "stream",
     "text": [
      "Cloning into 'cssrlib-data'...\n",
      "Updating files:  29% (29/98)\n",
      "Updating files:  30% (30/98)\n",
      "Updating files:  31% (31/98)\n",
      "Updating files:  32% (32/98)\n",
      "Updating files:  33% (33/98)\n",
      "Updating files:  34% (34/98)\n",
      "Updating files:  35% (35/98)\n",
      "Updating files:  36% (36/98)\n",
      "Updating files:  37% (37/98)\n",
      "Updating files:  38% (38/98)\n",
      "Updating files:  39% (39/98)\n",
      "Updating files:  40% (40/98)\n",
      "Updating files:  41% (41/98)\n",
      "Updating files:  42% (42/98)\n",
      "Updating files:  43% (43/98)\n",
      "Updating files:  44% (44/98)\n",
      "Updating files:  45% (45/98)\n",
      "Updating files:  46% (46/98)\n",
      "Updating files:  47% (47/98)\n",
      "Updating files:  48% (48/98)\n",
      "Updating files:  50% (49/98)\n",
      "Updating files:  51% (50/98)\n",
      "Updating files:  52% (51/98)\n",
      "Updating files:  53% (52/98)\n",
      "Updating files:  54% (53/98)\n",
      "Updating files:  55% (54/98)\n",
      "Updating files:  56% (55/98)\n",
      "Updating files:  57% (56/98)\n",
      "Updating files:  58% (57/98)\n",
      "Updating files:  59% (58/98)\n",
      "Updating files:  60% (59/98)\n",
      "Updating files:  61% (60/98)\n",
      "Updating files:  62% (61/98)\n",
      "Updating files:  63% (62/98)\n",
      "Updating files:  64% (63/98)\n",
      "Updating files:  65% (64/98)\n",
      "Updating files:  66% (65/98)\n",
      "Updating files:  67% (66/98)\n",
      "Updating files:  68% (67/98)\n",
      "Updating files:  69% (68/98)\n",
      "Updating files:  70% (69/98)\n",
      "Updating files:  71% (70/98)\n",
      "Updating files:  72% (71/98)\n",
      "Updating files:  73% (72/98)\n",
      "Updating files:  74% (73/98)\n",
      "Updating files:  75% (74/98)\n",
      "Updating files:  76% (75/98)\n",
      "Updating files:  77% (76/98)\n",
      "Updating files:  78% (77/98)\n",
      "Updating files:  79% (78/98)\n",
      "Updating files:  80% (79/98)\n",
      "Updating files:  81% (80/98)\n",
      "Updating files:  82% (81/98)\n",
      "Updating files:  83% (82/98)\n",
      "Updating files:  84% (83/98)\n",
      "Updating files:  85% (84/98)\n",
      "Updating files:  86% (85/98)\n",
      "Updating files:  87% (86/98)\n",
      "Updating files:  88% (87/98)\n",
      "Updating files:  89% (88/98)\n",
      "Updating files:  90% (89/98)\n",
      "Updating files:  91% (90/98)\n",
      "Updating files:  92% (91/98)\n",
      "Updating files:  93% (92/98)\n",
      "Updating files:  94% (93/98)\n",
      "Updating files:  95% (94/98)\n",
      "Updating files:  96% (95/98)\n",
      "Updating files:  97% (96/98)\n",
      "Updating files:  98% (97/98)\n",
      "Updating files: 100% (98/98)\n",
      "Updating files: 100% (98/98), done.\n"
     ]
    }
   ],
   "source": [
    "!git clone https://github.com/hirokawa/cssrlib-data.git"
   ]
  },
  {
   "cell_type": "markdown",
   "id": "f4191fe5",
   "metadata": {
    "id": "f4191fe5"
   },
   "source": [
    "\n",
    "## Examples\n",
    "\n",
    "This tutorial provides examples to show the basic features of CSSRlib for Standalone, RTK, PPP-RTK, and PPP positioning using correction data from open PPP/PPP-RTK services. The following examples are included:\n",
    "\n",
    "- Visualizing orbit of QZSS satellite\n",
    "- Showing skyplot\n",
    "- Standalone positioning\n",
    "- RTK positioning\n",
    "- PPP-RTK positioning (QZSS-CLAS)\n",
    "- PPP positioning (BeiDou)\n",
    "- PPP positioning (Galileo HAS)\n",
    "- PPP positioning (IGS)\n",
    "- PPP positioning (MADOCA)\n",
    "\n",
    "Note that despite the static setup\n",
    "of the antenna, all data sets are processed assuming a non-stationary antenna. A motion model has not been used for the\n",
    "receiver position. Instead, a sufficiently large amount of process noise has been added to the variance of the predicted position\n",
    "states.\n",
    "\n",
    "Click on the arrows in the left margin to open or close an example"
   ]
  },
  {
   "cell_type": "markdown",
   "id": "b85900d9",
   "metadata": {
    "id": "b85900d9"
   },
   "source": [
    "## Example 1: Visualizing the Orbit of a Satellite\n",
    "\n",
    "In this first example, we will introduce the basic features of CSSRlib to calculate and visualize a QZSS satellite orbit."
   ]
  },
  {
   "cell_type": "markdown",
   "id": "bfe3a51f",
   "metadata": {
    "id": "bfe3a51f"
   },
   "source": [
    "First, we will load the required Python modules such as numpy, matplotlib,  and cartopy. Then we will load modules from CSSRlib."
   ]
  },
  {
   "cell_type": "code",
   "execution_count": 1,
   "id": "a214e8d3",
   "metadata": {
    "id": "a214e8d3",
    "scrolled": true
   },
   "outputs": [],
   "source": [
    "import matplotlib.pyplot as plt\n",
    "import cartopy.crs as ccrs\n",
    "import numpy as np\n",
    "\n",
    "from cssrlib.rinex import rnxdec\n",
    "from cssrlib.gnss import Nav, epoch2time, prn2sat, uGNSS, sat2prn,\\\n",
    "    timeadd, ecef2pos\n",
    "from cssrlib.ephemeris import findeph, eph2pos"
   ]
  },
  {
   "cell_type": "markdown",
   "id": "51e1bdf4",
   "metadata": {
    "id": "51e1bdf4"
   },
   "source": [
    "In CSSRlib, the epoch is defined as Python Class `gtime_t` as in RTKlib. The snippet defines epoch \"19/3/2021 0:00:00\", shows the internal variable of `gtime_t`."
   ]
  },
  {
   "cell_type": "code",
   "execution_count": 2,
   "id": "7e7fe465",
   "metadata": {
    "colab": {
     "base_uri": "https://localhost:8080/"
    },
    "id": "7e7fe465",
    "outputId": "f11ace96-58a0-4b45-d08b-c66111d8bafe"
   },
   "outputs": [
    {
     "data": {
      "text/plain": [
       "(1616112000, 0)"
      ]
     },
     "execution_count": 2,
     "metadata": {},
     "output_type": "execute_result"
    }
   ],
   "source": [
    "t0 = epoch2time([2021, 3, 19, 0, 0, 0]) # year, month, day, hour, minute, sec\n",
    "t0.time,t0.sec"
   ]
  },
  {
   "cell_type": "markdown",
   "id": "d4685e83",
   "metadata": {
    "id": "d4685e83"
   },
   "source": [
    "Then, the ephemeris in RINEX format is loaded using RINEX decoder in CSSRlib."
   ]
  },
  {
   "cell_type": "code",
   "execution_count": 5,
   "id": "121d290e",
   "metadata": {
    "id": "121d290e"
   },
   "outputs": [],
   "source": [
    "dec = rnxdec()\n",
    "nav = dec.decode_nav( 'cssrlib-data/data/30340780.21q', Nav()) # load RINEX navigation file"
   ]
  },
  {
   "cell_type": "markdown",
   "id": "155442bb",
   "metadata": {
    "id": "155442bb"
   },
   "source": [
    "The satellites are identified by the system (GPS, Galileo, QZS, ...) and by PRN number. They should be converted into the internal satellite numbers using prn2sat. This snippet shows the satellite number for QZSS with PRN 194 (QZS-2):"
   ]
  },
  {
   "cell_type": "code",
   "execution_count": 6,
   "id": "8a855d63",
   "metadata": {
    "colab": {
     "base_uri": "https://localhost:8080/"
    },
    "id": "8a855d63",
    "outputId": "4a472f36-a361-4e98-99f4-266d6565cf44"
   },
   "outputs": [
    {
     "data": {
      "text/plain": [
       "70"
      ]
     },
     "execution_count": 6,
     "metadata": {},
     "output_type": "execute_result"
    }
   ],
   "source": [
    "sat = prn2sat(uGNSS.QZS, 194)\n",
    "sat"
   ]
  },
  {
   "cell_type": "markdown",
   "id": "100629b9",
   "metadata": {
    "id": "100629b9"
   },
   "source": [
    "The orbit position of a GNSS satellite can be calculated using ephemeris defined in the RINEX navigation file. The valid ephemeris for a specific epoch can be searched for using `findeph`. Position and velocity in ECEF and clock bias are calculated by eph2pos. The position in geodetic cordinates can be calculated by ecef2pos:"
   ]
  },
  {
   "cell_type": "code",
   "execution_count": 7,
   "id": "821f0d38",
   "metadata": {
    "colab": {
     "base_uri": "https://localhost:8080/"
    },
    "id": "821f0d38",
    "outputId": "56b690f1-ef2b-4666-afb1-7cef7090f210"
   },
   "outputs": [
    {
     "name": "stdout",
     "output_type": "stream",
     "text": [
      "rs= [-27695465.67390223  25576355.5431149   23733383.2869802 ] vs= [ 618.82498925 -271.15881898 1281.49729409] dts= 3.4869334074196084e-06\n",
      "pos= [5.62300943e-01 2.39595272e+00 3.81752334e+07]\n"
     ]
    }
   ],
   "source": [
    "t = t0\n",
    "eph = findeph(nav.eph, t, sat)\n",
    "rs, vs, dts = eph2pos(t, eph, True)\n",
    "print('rs=',rs, 'vs=', vs,'dts=', dts)\n",
    "pos = ecef2pos(rs)\n",
    "print('pos=',pos)"
   ]
  },
  {
   "cell_type": "markdown",
   "id": "9ca6e0b2",
   "metadata": {
    "id": "9ca6e0b2"
   },
   "source": [
    "The orbit of QZS-2 for 1 day (24 hours) is calculated and plotted using Cartopy:"
   ]
  },
  {
   "cell_type": "code",
   "execution_count": 8,
   "id": "fc82fdfc",
   "metadata": {
    "colab": {
     "base_uri": "https://localhost:8080/",
     "height": 400
    },
    "id": "fc82fdfc",
    "outputId": "1df8431b-4097-4ec1-cc91-e64677021dd4",
    "scrolled": true
   },
   "outputs": [
    {
     "data": {
      "image/png": "[encoded data removed]",
      "text/plain": [
       "<Figure size 288x288 with 1 Axes>"
      ]
     },
     "metadata": {},
     "output_type": "display_data"
    }
   ],
   "source": [
    "lon0 = 135\n",
    "plt.figure(figsize=(4, 4))\n",
    "ax = plt.axes(projection=ccrs.Orthographic(central_longitude=lon0,\n",
    "                                           central_latitude=0))\n",
    "ax.coastlines(resolution='50m')\n",
    "ax.gridlines()\n",
    "ax.stock_img()\n",
    "\n",
    "n = 24*3600//300\n",
    "pos = np.zeros((n, 3))\n",
    "r2d = 180/np.pi\n",
    "\n",
    "for k in range(uGNSS.MAXSAT):\n",
    "    sat = k+1\n",
    "    sys, prn = sat2prn(sat)\n",
    "    if sys != uGNSS.QZS:  # skip non QZSS\n",
    "        continue\n",
    "    for i in range(n):\n",
    "        t = timeadd(t0, i*300)\n",
    "        if eph is None:\n",
    "            continue\n",
    "        rs, dts = eph2pos(t, eph)\n",
    "        pos[i, :] = ecef2pos(rs)\n",
    "\n",
    "    plt.plot(pos[:, 1]*r2d, pos[:, 0]*r2d, 'm-', transform=ccrs.Geodetic())\n",
    "plt.show()"
   ]
  },
  {
   "cell_type": "markdown",
   "id": "d93de7b9",
   "metadata": {
    "id": "d93de7b9"
   },
   "source": [
    "## Example 2: Showing a Skyplot\n",
    "\n",
    "For the visualization of measurements, CSSRlib supports the skyplots of satellite orbit paths at specific locations. At first, the required modules are loaded."
   ]
  },
  {
   "cell_type": "code",
   "execution_count": 9,
   "id": "acae2d99",
   "metadata": {
    "id": "acae2d99"
   },
   "outputs": [],
   "source": [
    "import numpy as np\n",
    "from cssrlib.gnss import Nav, ecef2pos, geodist, satazel, timediff, uGNSS, rSigRnx\n",
    "from cssrlib.ephemeris import findeph, eph2pos\n",
    "from cssrlib.plot import skyplot, plot_elv\n",
    "from cssrlib.rinex import rnxdec"
   ]
  },
  {
   "cell_type": "markdown",
   "id": "212a514f",
   "metadata": {
    "id": "212a514f"
   },
   "source": [
    "Then, an instance of a RINEX decoder is generated. In this example, the observation and navigation files measured by a Septentrio Mosaic-X5 receiver are used. We also need to specify which satellite signals will be used."
   ]
  },
  {
   "cell_type": "code",
   "execution_count": 10,
   "id": "7936c023",
   "metadata": {
    "id": "7936c023"
   },
   "outputs": [],
   "source": [
    "navfile = 'cssrlib-data/data/SEPT078M.21P'\n",
    "obsfile = 'cssrlib-data/data/SEPT078M.21O'\n",
    "\n",
    "dec = rnxdec()\n",
    "nav = dec.decode_nav(navfile,Nav())\n",
    "\n",
    "sigs = [rSigRnx(\"GC1C\"), rSigRnx(\"EC1C\"), rSigRnx(\"JC1C\")]\n",
    "dec.setSignals(sigs)"
   ]
  },
  {
   "cell_type": "markdown",
   "id": "33661340",
   "metadata": {
    "id": "33661340"
   },
   "source": [
    "Next, the orbit of tracked satellites is calculated for 15 minutes of epoch."
   ]
  },
  {
   "cell_type": "code",
   "execution_count": 11,
   "id": "52f2754b",
   "metadata": {
    "colab": {
     "base_uri": "https://localhost:8080/"
    },
    "id": "52f2754b",
    "outputId": "1df58f43-e83a-4bfc-a073-04cd3cf22e29"
   },
   "outputs": [
    {
     "name": "stdout",
     "output_type": "stream",
     "text": [
      "epoch=899/900"
     ]
    }
   ],
   "source": [
    "nep = 15*60  # 15 minutes\n",
    "elv = np.ones((nep, uGNSS.MAXSAT))*np.nan\n",
    "azm = np.ones((nep, uGNSS.MAXSAT))*np.nan\n",
    "t = np.zeros(nep)*np.nan\n",
    "\n",
    "if dec.decode_obsh(obsfile) >= 0:\n",
    "    rr = dec.pos\n",
    "    pos = ecef2pos(rr)\n",
    "    for ne in range(nep):\n",
    "        print('\\repoch=%d/%d' % (ne, nep), end='')\n",
    "        obs = dec.decode_obs()\n",
    "        if ne == 0:\n",
    "            t0 = obs.t\n",
    "        t[ne] = timediff(obs.t, t0)\n",
    "        for k, sat in enumerate(obs.sat):\n",
    "            eph = findeph(nav.eph, obs.t, sat)\n",
    "            if eph is None:\n",
    "                continue\n",
    "            rs, dts = eph2pos(obs.t, eph)\n",
    "            r, e = geodist(rs, rr)\n",
    "            azm[ne, sat-1], elv[ne, sat-1] = satazel(pos, e)\n",
    "    dec.fobs.close()"
   ]
  },
  {
   "cell_type": "markdown",
   "id": "9173173b",
   "metadata": {
    "id": "9173173b"
   },
   "source": [
    "The elevation and azimuth angles of each satellite are recorded, and the skyplot is generated as below:"
   ]
  },
  {
   "cell_type": "code",
   "execution_count": 12,
   "id": "73f6d5a9",
   "metadata": {
    "colab": {
     "base_uri": "https://localhost:8080/",
     "height": 459
    },
    "id": "73f6d5a9",
    "outputId": "a861001d-5c1d-4a0f-817a-af96be58bbd8"
   },
   "outputs": [
    {
     "data": {
      "image/png": "[encoded data removed]",
      "text/plain": [
       "<Figure size 432x288 with 1 Axes>"
      ]
     },
     "metadata": {},
     "output_type": "display_data"
    }
   ],
   "source": [
    "#plot_elv(t, elv)\n",
    "nsat = skyplot(azm, elv)"
   ]
  },
  {
   "cell_type": "markdown",
   "id": "5a058567",
   "metadata": {
    "id": "5a058567"
   },
   "source": [
    "## Example 3: Standalone positioning\n",
    "\n",
    "This section introduces standalone GNSS positioning using RINEX observations from a Septentrio Mosaic-X5 receiver."
   ]
  },
  {
   "cell_type": "markdown",
   "id": "HlMNxLjFD1FK",
   "metadata": {
    "id": "HlMNxLjFD1FK"
   },
   "source": [
    "First, the required Python modules are loaded."
   ]
  },
  {
   "cell_type": "code",
   "execution_count": 14,
   "id": "0b6966d0",
   "metadata": {
    "id": "0b6966d0"
   },
   "outputs": [],
   "source": [
    "import matplotlib.pyplot as plt\n",
    "import numpy as np\n",
    "from cssrlib.rinex import rnxdec\n",
    "from cssrlib.gnss import ecef2pos, timediff, dops, ecef2enu, rSigRnx\n",
    "from cssrlib.pntpos import stdpos"
   ]
  },
  {
   "cell_type": "markdown",
   "id": "81f53fb6",
   "metadata": {
    "id": "81f53fb6"
   },
   "source": [
    "Then the rover position is defined for reference."
   ]
  },
  {
   "cell_type": "code",
   "execution_count": 15,
   "id": "4395530a",
   "metadata": {
    "id": "4395530a"
   },
   "outputs": [],
   "source": [
    "xyz_ref = [-3962108.673,   3381309.574,   3668678.638]\n",
    "pos_ref = ecef2pos(xyz_ref)"
   ]
  },
  {
   "cell_type": "markdown",
   "id": "c9e2c786",
   "metadata": {
    "id": "c9e2c786"
   },
   "source": [
    "RINEX navigation and observation files are defined, an instance of RINEX decoder is generated, and satellite signals are specified."
   ]
  },
  {
   "cell_type": "code",
   "execution_count": 27,
   "id": "3a6534d6",
   "metadata": {
    "id": "3a6534d6"
   },
   "outputs": [],
   "source": [
    "navfile = 'cssrlib-data/data/SEPT078M.21P'\n",
    "obsfile = 'cssrlib-data/data/SEPT078M.21O'\n",
    "dec = rnxdec()\n",
    "nav = dec.decode_nav(navfile, Nav())\n",
    "nav.pmode = 0\n",
    "\n",
    "sigs = [rSigRnx(\"GC1C\"), rSigRnx(\"EC1C\"), rSigRnx(\"JC1C\"),\n",
    "        rSigRnx(\"GL1C\"), rSigRnx(\"EL1C\"), rSigRnx(\"JL1C\"),\n",
    "        rSigRnx(\"GS1C\"), rSigRnx(\"ES1C\"), rSigRnx(\"JS1C\")]\n",
    "dec.setSignals(sigs)\n",
    "dec.autoSubstituteSignals()"
   ]
  },
  {
   "cell_type": "markdown",
   "id": "c05a83bf",
   "metadata": {
    "id": "c05a83bf"
   },
   "source": [
    "The variables for position, DOPs, and number of satellite are defined for 6 minutes epoch."
   ]
  },
  {
   "cell_type": "code",
   "execution_count": 28,
   "id": "b9c7f872",
   "metadata": {
    "id": "b9c7f872"
   },
   "outputs": [],
   "source": [
    "nep = 6*60  # 6 minutes\n",
    "t = np.zeros(nep)\n",
    "enu = np.zeros((nep, 3))\n",
    "dop = np.zeros((nep, 4))\n",
    "nsat = np.zeros(nep, dtype=int)\n",
    "\n",
    "std = stdpos(nav, dec.pos, 'test_stdpos.log')\n",
    "sol = np.zeros((nep, nav.nx))"
   ]
  },
  {
   "cell_type": "markdown",
   "id": "e48d2d16",
   "metadata": {
    "id": "e48d2d16"
   },
   "source": [
    "The standalone GNSS positioning by `std.process()` is conducted for 6 minutes."
   ]
  },
  {
   "cell_type": "code",
   "execution_count": 29,
   "id": "63fee89c",
   "metadata": {
    "colab": {
     "base_uri": "https://localhost:8080/"
    },
    "id": "63fee89c",
    "outputId": "1d5536c5-dd69-4e7f-a031-2ce77de64aab"
   },
   "outputs": [
    {
     "name": "stdout",
     "output_type": "stream",
     "text": [
      "epoch=359/360"
     ]
    }
   ],
   "source": [
    "if dec.decode_obsh(obsfile) >= 0:\n",
    "    nav.x[0:3] = dec.pos\n",
    "    for ne in range(nep):\n",
    "        print('\\repoch=%d/%d' % (ne, nep), end='')\n",
    "        obs = dec.decode_obs()\n",
    "        if ne == 0:\n",
    "            t0 = nav.t = obs.t\n",
    "        t[ne] = timediff(obs.t, t0)\n",
    "        # nav, az, el = pntpos(obs, nav)\n",
    "        std.process(obs, cs=None)\n",
    "        sol[ne, :] = nav.x\n",
    "        dop[ne, :] = std.dop\n",
    "        enu[ne, :] = ecef2enu(pos_ref, sol[ne, 0:3]-xyz_ref)\n",
    "        #nsat[ne] = len(el)\n",
    "    dec.fobs.close()"
   ]
  },
  {
   "cell_type": "markdown",
   "id": "b1d924c7",
   "metadata": {
    "id": "b1d924c7"
   },
   "source": [
    "The ENU position relative to the reference position is plotted."
   ]
  },
  {
   "cell_type": "code",
   "execution_count": 31,
   "id": "c6b68b55",
   "metadata": {
    "colab": {
     "base_uri": "https://localhost:8080/",
     "height": 393
    },
    "id": "c6b68b55",
    "outputId": "a88918ff-43b7-4f6e-9f7e-e2d7207f2305"
   },
   "outputs": [
    {
     "data": {
      "image/png": "[encoded data removed]",
      "text/plain": [
       "<Figure size 360x288 with 1 Axes>"
      ]
     },
     "metadata": {},
     "output_type": "display_data"
    }
   ],
   "source": [
    "def plt_enu(t, enu, dmax=0.4):\n",
    "    plt.figure(figsize=(5,4))\n",
    "    plt.plot(t, enu)\n",
    "    plt.ylabel('pos err[m]')\n",
    "    plt.xlabel('time[s]')\n",
    "    plt.legend(['east', 'north', 'up'])\n",
    "    plt.grid()\n",
    "    plt.axis([0, nep, -dmax, dmax])\n",
    "    plt.show()\n",
    "\n",
    "plt_enu(t, enu, 10)"
   ]
  },
  {
   "cell_type": "markdown",
   "id": "d2f49f64",
   "metadata": {
    "id": "d2f49f64"
   },
   "source": [
    "To measure the geometry for positioning, DOPs (PDOP, HDOP, VDOP) are plotted:"
   ]
  },
  {
   "cell_type": "code",
   "execution_count": 32,
   "id": "5c2d1644",
   "metadata": {
    "colab": {
     "base_uri": "https://localhost:8080/",
     "height": 393
    },
    "id": "5c2d1644",
    "outputId": "cad2e346-925c-48a2-efc8-f0acc09f1ddd"
   },
   "outputs": [
    {
     "data": {
      "image/png": "[encoded data removed]",
      "text/plain": [
       "<Figure size 360x288 with 1 Axes>"
      ]
     },
     "metadata": {},
     "output_type": "display_data"
    }
   ],
   "source": [
    "def plt_dop(t, dop):\n",
    "    nep = len(t)\n",
    "    plt.figure(figsize=(5,4))\n",
    "    plt.plot(t, dop)\n",
    "    plt.legend(['pdop', 'hdop', 'vdop'])\n",
    "    plt.grid()\n",
    "    plt.axis([0, nep, 0, 2])\n",
    "    plt.xlabel('time[s]')\n",
    "    plt.show()\n",
    "\n",
    "plt_dop(t,dop[:,1:])"
   ]
  },
  {
   "cell_type": "markdown",
   "id": "3b8b422e",
   "metadata": {
    "id": "3b8b422e"
   },
   "source": [
    "## Example 4: RTK positioning\n",
    "\n",
    "This section demonstrates static RTK positioning under open-sky conditions using a Septentrio Mosaic-X5 rover and a Trimble Net-R9 base. The results are obtained using dual-frequency pseudorange and carrier-phase observations of GPS, Galileo and QZSS.  "
   ]
  },
  {
   "cell_type": "markdown",
   "id": "QxWZFIuDDrJL",
   "metadata": {
    "id": "QxWZFIuDDrJL"
   },
   "source": [
    "First, load the required Python modules."
   ]
  },
  {
   "cell_type": "code",
   "execution_count": 34,
   "id": "efb004df",
   "metadata": {
    "id": "efb004df"
   },
   "outputs": [],
   "source": [
    "import matplotlib.pyplot as plt\n",
    "import numpy as np\n",
    "import sys\n",
    "\n",
    "import cssrlib.rinex as rn\n",
    "import cssrlib.gnss as gn\n",
    "from cssrlib.gnss import rSigRnx, time2str\n",
    "from cssrlib.peph import atxdec, searchpcv\n",
    "from cssrlib.rtk import rtkpos"
   ]
  },
  {
   "cell_type": "markdown",
   "id": "8d7dc263",
   "metadata": {
    "id": "8d7dc263"
   },
   "source": [
    "Define the reference position of the rover for evaulation."
   ]
  },
  {
   "cell_type": "code",
   "execution_count": 35,
   "id": "2f4925cd",
   "metadata": {
    "id": "2f4925cd"
   },
   "outputs": [],
   "source": [
    "xyz_ref = [-3962108.7007, 3381309.5532, 3668678.6648]\n",
    "pos_ref = gn.ecef2pos(xyz_ref)"
   ]
  },
  {
   "cell_type": "markdown",
   "id": "Y3W-iGU2zAgE",
   "metadata": {
    "id": "Y3W-iGU2zAgE"
   },
   "source": [
    "Specify the satellite signals to be processed for base and rover"
   ]
  },
  {
   "cell_type": "code",
   "execution_count": 36,
   "id": "_wHtdNenzCBI",
   "metadata": {
    "id": "_wHtdNenzCBI"
   },
   "outputs": [],
   "source": [
    "sigs = [rSigRnx(\"GC1C\"), rSigRnx(\"GC2W\"),\n",
    "        rSigRnx(\"EC1C\"), rSigRnx(\"EC5Q\"),\n",
    "        rSigRnx(\"JC1C\"), rSigRnx(\"JC2L\"),\n",
    "        rSigRnx(\"GL1C\"), rSigRnx(\"GL2W\"),\n",
    "        rSigRnx(\"EL1C\"), rSigRnx(\"EL5Q\"),\n",
    "        rSigRnx(\"JL1C\"), rSigRnx(\"JL2L\"),\n",
    "        rSigRnx(\"GS1C\"), rSigRnx(\"GS2W\"),\n",
    "        rSigRnx(\"ES1C\"), rSigRnx(\"ES5Q\"),\n",
    "        rSigRnx(\"JS1C\"), rSigRnx(\"JS2L\")]\n",
    "\n",
    "sigsb = [rSigRnx(\"GC1C\"), rSigRnx(\"GC2W\"),\n",
    "         rSigRnx(\"EC1X\"), rSigRnx(\"EC5X\"),\n",
    "         rSigRnx(\"JC1X\"), rSigRnx(\"JC2X\"),\n",
    "         rSigRnx(\"GL1C\"), rSigRnx(\"GL2W\"),\n",
    "         rSigRnx(\"EL1X\"), rSigRnx(\"EL5X\"),\n",
    "         rSigRnx(\"JL1X\"), rSigRnx(\"JL2X\"),\n",
    "         rSigRnx(\"GS1C\"), rSigRnx(\"GS2W\"),\n",
    "         rSigRnx(\"ES1X\"), rSigRnx(\"ES5X\"),\n",
    "         rSigRnx(\"JS1X\"), rSigRnx(\"JS2X\")]"
   ]
  },
  {
   "cell_type": "markdown",
   "id": "ba9c559c",
   "metadata": {
    "id": "ba9c559c"
   },
   "source": [
    "Load the measurement and ephemeris data for the rover (Septentrio Mosaic-X5)."
   ]
  },
  {
   "cell_type": "code",
   "execution_count": 37,
   "id": "27b26fcf",
   "metadata": {
    "id": "27b26fcf"
   },
   "outputs": [],
   "source": [
    "bdir = 'cssrlib-data/data/'\n",
    "navfile = bdir+'SEPT238A.23P'\n",
    "obsfile = bdir+'SEPT238A.23O'\n",
    "\n",
    "# rover\n",
    "dec = rn.rnxdec()\n",
    "dec.setSignals(sigs)\n",
    "nav = gn.Nav()\n",
    "dec.decode_nav(navfile, nav)\n",
    "dec.decode_obsh(obsfile)\n",
    "dec.autoSubstituteSignals()"
   ]
  },
  {
   "cell_type": "markdown",
   "id": "6521c242",
   "metadata": {
    "id": "6521c242"
   },
   "source": [
    "For RTK positioning, the observation file for the base station also needs to be specified, as well as the position of the base station."
   ]
  },
  {
   "cell_type": "code",
   "execution_count": 38,
   "id": "85530a51",
   "metadata": {
    "id": "85530a51"
   },
   "outputs": [],
   "source": [
    "# base station\n",
    "basefile = bdir+'3034238A.23O'\n",
    "nav.rb = [-3959400.6443, 3385704.4948, 3667523.1275]  # GSI 3034 fujisawa\n",
    "decb = rn.rnxdec()\n",
    "decb.setSignals(sigsb)\n",
    "decb.decode_obsh(basefile)\n",
    "decb.autoSubstituteSignals()"
   ]
  },
  {
   "cell_type": "markdown",
   "id": "-U6kZhcR0tjZ",
   "metadata": {
    "id": "-U6kZhcR0tjZ"
   },
   "source": [
    "Load the antenna data for the satellites and receivers"
   ]
  },
  {
   "cell_type": "code",
   "execution_count": 39,
   "id": "2biX0yEj02cX",
   "metadata": {
    "id": "2biX0yEj02cX"
   },
   "outputs": [],
   "source": [
    "atxfile = bdir + 'igs14.atx'\n",
    "ngsantfile = bdir + 'GSI_PCV.TXT'\n",
    "\n",
    "atx = atxdec()\n",
    "atx.readpcv(atxfile)\n",
    "atx.readngspcv(ngsantfile)\n",
    "\n",
    "# Set PCO/PCV information\n",
    "nav.rcv_ant = searchpcv(atx.pcvr, dec.ant,  dec.ts)\n",
    "nav.rcv_ant_b = searchpcv(atx.pcvr, decb.ant,  dec.ts)"
   ]
  },
  {
   "cell_type": "markdown",
   "id": "18286a6a",
   "metadata": {
    "id": "18286a6a"
   },
   "source": [
    "Initialize the variables for position and the RTK configuration parameters."
   ]
  },
  {
   "cell_type": "code",
   "execution_count": 40,
   "id": "de72b4fc",
   "metadata": {
    "id": "de72b4fc"
   },
   "outputs": [],
   "source": [
    "rtk = rtkpos(nav, dec.pos, 'test_rtk.log')\n",
    "rr = dec.pos"
   ]
  },
  {
   "cell_type": "markdown",
   "id": "f8bca1dc",
   "metadata": {
    "id": "f8bca1dc"
   },
   "source": [
    "Run RTK positioning for 3 minutes (epochs) using `rtk.process()`."
   ]
  },
  {
   "cell_type": "code",
   "execution_count": 41,
   "id": "7cb2c994",
   "metadata": {
    "colab": {
     "base_uri": "https://localhost:8080/"
    },
    "id": "7cb2c994",
    "outputId": "4e255d85-df3a-46f4-ef1f-d45b8e6acd6b"
   },
   "outputs": [
    {
     "name": "stdout",
     "output_type": "stream",
     "text": [
      " 2023-08-26 00:03:00 ENU  0.0093 -0.0286  0.0231, 2D 0.0301, mode 4"
     ]
    }
   ],
   "source": [
    "nep = 3 * 60  # 3 minutes\n",
    "t = np.zeros(nep)\n",
    "enu = np.zeros((nep, 3))\n",
    "smode = np.zeros(nep, dtype=int)\n",
    "\n",
    "for ne in range(nep):\n",
    "    obs, obsb = rn.sync_obs(dec, decb)\n",
    "    if ne == 0:\n",
    "        t0 = nav.t = obs.t\n",
    "    rtk.process(obs, obsb=obsb)\n",
    "    t[ne] = gn.timediff(nav.t, t0)\n",
    "    sol = nav.xa[0:3] if nav.smode == 4 else nav.x[0:3]\n",
    "    enu[ne, :] = gn.ecef2enu(pos_ref, sol-xyz_ref)\n",
    "    smode[ne] = nav.smode\n",
    "    # Log to standard output\n",
    "    sys.stdout.write('\\r {} ENU {:7.4f} {:7.4f} {:7.4f}, 2D {:6.4f}, mode {:1d}'\n",
    "                     .format(time2str(obs.t),\n",
    "                             enu[ne, 0], enu[ne, 1], enu[ne, 2],\n",
    "                             np.sqrt(enu[ne, 0]**2+enu[ne, 1]**2),\n",
    "                             smode[ne]))\n",
    "\n",
    "dec.fobs.close()\n",
    "decb.fobs.close()"
   ]
  },
  {
   "cell_type": "markdown",
   "id": "54c2a23a",
   "metadata": {
    "id": "54c2a23a"
   },
   "source": [
    "Plot the position relative to the reference position."
   ]
  },
  {
   "cell_type": "code",
   "execution_count": 42,
   "id": "92fbb0cd",
   "metadata": {
    "colab": {
     "base_uri": "https://localhost:8080/",
     "height": 393
    },
    "id": "92fbb0cd",
    "outputId": "96f60208-34dc-4bc2-e528-eba39c405454"
   },
   "outputs": [
    {
     "data": {
      "image/png": "[encoded data removed]",
      "text/plain": [
       "<Figure size 360x288 with 1 Axes>"
      ]
     },
     "metadata": {},
     "output_type": "display_data"
    }
   ],
   "source": [
    "def plt_enu(t, enu, dmax=0.1):\n",
    "    plt.figure(figsize=(5,4))\n",
    "    plt.plot(t, enu)\n",
    "    plt.ylabel('pos err[m]')\n",
    "    plt.xlabel('time[s]')\n",
    "    plt.legend(['east', 'north', 'up'])\n",
    "    plt.grid()\n",
    "    plt.axis([0, nep, -dmax, dmax])\n",
    "    plt.show()\n",
    "\n",
    "plt_enu(t, enu)"
   ]
  },
  {
   "cell_type": "markdown",
   "id": "1c4b06ee",
   "metadata": {
    "id": "1c4b06ee"
   },
   "source": [
    "## Example 5: PPP-RTK positioning (QZSS CLAS)\n",
    "\n",
    "This section demonstrates PPP-RTK positioning using uncombined receiver observations and recorded QZSS\n",
    "L6 binary messages."
   ]
  },
  {
   "cell_type": "markdown",
   "id": "lnzfElSPNdSa",
   "metadata": {
    "id": "lnzfElSPNdSa"
   },
   "source": [
    "First, load the required Python modules."
   ]
  },
  {
   "cell_type": "code",
   "execution_count": 43,
   "id": "2c71bec7",
   "metadata": {
    "id": "2c71bec7"
   },
   "outputs": [],
   "source": [
    "from copy import deepcopy\n",
    "import matplotlib.pyplot as plt\n",
    "import numpy as np\n",
    "from sys import stdout\n",
    "from binascii import unhexlify\n",
    "\n",
    "import cssrlib.gnss as gn\n",
    "from cssrlib.cssrlib import cssr\n",
    "from cssrlib.gnss import ecef2pos, Nav, time2gpst, timediff, time2str, epoch2time\n",
    "from cssrlib.gnss import rSigRnx, sys2str\n",
    "from cssrlib.peph import atxdec, searchpcv\n",
    "from cssrlib.ppprtk import ppprtkpos\n",
    "from cssrlib.rinex import rnxdec"
   ]
  },
  {
   "cell_type": "markdown",
   "id": "a0d40a99",
   "metadata": {
    "id": "a0d40a99"
   },
   "source": [
    "Define the RINEX observation, navigation, and antenna files, and starting epoch"
   ]
  },
  {
   "cell_type": "code",
   "execution_count": 44,
   "id": "8abf712f",
   "metadata": {
    "id": "8abf712f"
   },
   "outputs": [],
   "source": [
    "navfile = 'cssrlib-data/data/doy223/NAV223.23p'\n",
    "obsfile = 'cssrlib-data/data/doy223/SEPT223Y.23O'  # PolaRX5'\n",
    "atxfile = 'cssrlib-data/data/igs14.atx'\n",
    "\n",
    "ep = [2023, 8, 11, 21, 0, 0]\n",
    "\n",
    "nav = Nav()\n",
    "nav = dec.decode_nav(navfile, nav)\n",
    "\n",
    "atx = atxdec()\n",
    "atx.readpcv(atxfile)"
   ]
  },
  {
   "cell_type": "markdown",
   "id": "c803c03a",
   "metadata": {
    "id": "c803c03a"
   },
   "source": [
    "For reference, specify the rover position."
   ]
  },
  {
   "cell_type": "code",
   "execution_count": 45,
   "id": "d60ec1b6",
   "metadata": {
    "id": "d60ec1b6"
   },
   "outputs": [],
   "source": [
    "xyz_ref = [-3962108.7007, 3381309.5532, 3668678.6648]\n",
    "pos_ref = ecef2pos(xyz_ref)"
   ]
  },
  {
   "cell_type": "markdown",
   "id": "ad8ce40c",
   "metadata": {
    "id": "ad8ce40c"
   },
   "source": [
    "QZSS CLAS correction messages are encoded in Compact SSR format. In this example, the recorded L6 data is used. Also load the grid position of QZSS CLAS as defined in IS-QZSS-L6\n",
    "."
   ]
  },
  {
   "cell_type": "code",
   "execution_count": 46,
   "id": "03836a0a",
   "metadata": {
    "id": "03836a0a"
   },
   "outputs": [],
   "source": [
    "file_l6 = 'cssrlib-data/data/doy223/223v_qzsl6.txt'\n",
    "prn_ref = 199  # QZSS PRN\n",
    "l6_ch = 0  # 0:L6D, 1:L6E\n",
    "\n",
    "griddef = 'cssrlib-data/data/clas_grid.def'\n",
    "cs = cssr()\n",
    "cs.monlevel = 1\n",
    "time = epoch2time(ep)\n",
    "cs.week = time2gpst(time)[0]\n",
    "cs.read_griddef(griddef)"
   ]
  },
  {
   "cell_type": "markdown",
   "id": "owr8qtA63hn4",
   "metadata": {
    "id": "owr8qtA63hn4"
   },
   "source": [
    "Specify signals to be processed"
   ]
  },
  {
   "cell_type": "code",
   "execution_count": 47,
   "id": "Loa7UDk43iBF",
   "metadata": {
    "id": "Loa7UDk43iBF"
   },
   "outputs": [],
   "source": [
    "sigs = [rSigRnx(\"GC1C\"), rSigRnx(\"GC2W\"),\n",
    "        rSigRnx(\"EC1C\"), rSigRnx(\"EC5Q\"),\n",
    "        rSigRnx(\"JC1C\"), rSigRnx(\"JC2L\"),\n",
    "        rSigRnx(\"GL1C\"), rSigRnx(\"GL2W\"),\n",
    "        rSigRnx(\"EL1C\"), rSigRnx(\"EL5Q\"),\n",
    "        rSigRnx(\"JL1C\"), rSigRnx(\"JL2L\"),\n",
    "        rSigRnx(\"GS1C\"), rSigRnx(\"GS2W\"),\n",
    "        rSigRnx(\"ES1C\"), rSigRnx(\"ES5Q\"),\n",
    "        rSigRnx(\"JS1C\"), rSigRnx(\"JS2L\")]\n",
    "\n",
    "rnx = rnxdec()\n",
    "rnx.setSignals(sigs)"
   ]
  },
  {
   "cell_type": "markdown",
   "id": "gu9YXwY56gwE",
   "metadata": {
    "id": "gu9YXwY56gwE"
   },
   "source": [
    "Initialize position and antenna PCO/PCVs"
   ]
  },
  {
   "cell_type": "code",
   "execution_count": 54,
   "id": "f4ea3b73",
   "metadata": {
    "id": "f4ea3b73"
   },
   "outputs": [],
   "source": [
    "if rnx.decode_obsh(obsfile) >= 0:\n",
    "    # Auto-substitute signals\n",
    "    rnx.autoSubstituteSignals()\n",
    "\n",
    "    # Initialize position\n",
    "    ppprtk = ppprtkpos(nav, rnx.pos, 'test_ppprtk.log')\n",
    "\n",
    "    # Set PCO/PCV information\n",
    "    nav.rcv_ant = searchpcv(atx.pcvr, rnx.ant,  rnx.ts)"
   ]
  },
  {
   "cell_type": "markdown",
   "id": "R_V2QknK68gO",
   "metadata": {
    "id": "R_V2QknK68gO"
   },
   "source": [
    "Print available signals and selected signals"
   ]
  },
  {
   "cell_type": "code",
   "execution_count": 55,
   "id": "voS1RIxb68wl",
   "metadata": {
    "colab": {
     "base_uri": "https://localhost:8080/"
    },
    "id": "voS1RIxb68wl",
    "outputId": "878b5434-0e0e-418b-b657-3294d4601a50"
   },
   "outputs": [
    {
     "name": "stdout",
     "output_type": "stream",
     "text": [
      "Available signals\n",
      "GPS     C1C L1C D1C S1C C1W S1W C2W L2W D2W S2W C2L L2L D2L S2L C5Q L5Q D5Q S5Q C1L L1L D1L S1L\n",
      "GALILEO C1C L1C D1C S1C C6C L6C D6C S6C C5Q L5Q D5Q S5Q C7Q L7Q D7Q S7Q C8Q L8Q D8Q S8Q\n",
      "SBAS    C1C L1C D1C S1C C5I L5I D5I S5I\n",
      "GLONASS C1C L1C D1C S1C C1P L1P D1P S1P C2P L2P D2P S2P C2C L2C D2C S2C C3Q L3Q D3Q S3Q\n",
      "BEIDOU  C1P L1P D1P S1P C5P L5P D5P S5P C2I L2I D2I S2I C7I L7I D7I S7I C6I L6I D6I S6I C7D L7D D7D S7D\n",
      "QZSS    C1C L1C D1C S1C C2L L2L D2L S2L C5Q L5Q D5Q S5Q C1L L1L D1L S1L C1Z L1Z D1Z S1Z C5P L5P D5P S5P\n",
      "IRNSS   C5A L5A D5A S5A\n",
      "\n",
      "Selected signals\n",
      "GPS     C1C C2W L1C L2W S1C S2W \n",
      "GALILEO C1C C5Q L1C L5Q S1C S5Q \n",
      "QZSS    C1C C2L L1C L2L S1C S2L \n"
     ]
    }
   ],
   "source": [
    "print(\"Available signals\")\n",
    "for sys, sigs in rnx.sig_map.items():\n",
    "    txt = \"{:7s} {}\".format(sys2str(sys),\n",
    "            ' '.join([sig.str() for sig in sigs.values()]))\n",
    "    print(txt)\n",
    "\n",
    "print(\"\\nSelected signals\")\n",
    "for sys, tmp in rnx.sig_tab.items():\n",
    "    txt = \"{:7s} \".format(sys2str(sys))\n",
    "    for _, sigs in tmp.items():\n",
    "        txt += \"{} \".format(' '.join([sig.str() for sig in sigs]))\n",
    "    print(txt)\n"
   ]
  },
  {
   "cell_type": "markdown",
   "id": "0lkUmvxU7Xs8",
   "metadata": {
    "id": "0lkUmvxU7Xs8"
   },
   "source": [
    "Get grid location and open L6 file"
   ]
  },
  {
   "cell_type": "code",
   "execution_count": 56,
   "id": "i8sLKFEc7YFX",
   "metadata": {
    "id": "i8sLKFEc7YFX"
   },
   "outputs": [],
   "source": [
    "pos = ecef2pos(rnx.pos)\n",
    "inet = cs.find_grid_index(pos)\n",
    "\n",
    "dtype = [('wn', 'int'), ('tow', 'int'), ('prn', 'int'),\n",
    "          ('type', 'int'), ('len', 'int'), ('nav', 'S500')]\n",
    "v = np.genfromtxt(file_l6, dtype=dtype)"
   ]
  },
  {
   "cell_type": "markdown",
   "id": "4061cecc",
   "metadata": {
    "id": "4061cecc"
   },
   "source": [
    "Set runtime to 3 minutes and initialize variables"
   ]
  },
  {
   "cell_type": "code",
   "execution_count": 57,
   "id": "defdd418",
   "metadata": {
    "id": "defdd418"
   },
   "outputs": [],
   "source": [
    "nep = 3*60  # 3 minutes, increase this for longer run\n",
    "\n",
    "t = np.zeros(nep)\n",
    "tc = np.zeros(nep)\n",
    "enu = np.ones((nep, 3))*np.nan\n",
    "sol = np.zeros((nep, 4))\n",
    "dop = np.zeros((nep, 4))\n",
    "smode = np.zeros(nep, dtype=int)"
   ]
  },
  {
   "cell_type": "markdown",
   "id": "90dc765a",
   "metadata": {
    "id": "90dc765a"
   },
   "source": [
    "Run PPP-RTK positioning using `ppprtkpos()` for 3 minutes. QZSS L6 messages are encoded in sub-frames (5 second per sub-frame), for the simple implementation, the recorded data is decoded every 5 seconds."
   ]
  },
  {
   "cell_type": "code",
   "execution_count": 58,
   "id": "wi0RcbzX6u4t",
   "metadata": {
    "colab": {
     "base_uri": "https://localhost:8080/"
    },
    "id": "wi0RcbzX6u4t",
    "outputId": "5d592183-ca13-4ea2-a880-96d422cccf40"
   },
   "outputs": [
    {
     "name": "stdout",
     "output_type": "stream",
     "text": [
      " 2023-08-11 21:03:00 ENU   0.011   0.053  -0.040, 2D  0.054, mode 4"
     ]
    }
   ],
   "source": [
    "# Skip epoch until start time\n",
    "obs = rnx.decode_obs()\n",
    "while time > obs.t and obs.t.time != 0:\n",
    "    obs = rnx.decode_obs()\n",
    "\n",
    "for ne in range(nep):\n",
    "    week, tow = time2gpst(obs.t)\n",
    "\n",
    "    vi = v[(v['tow'] == tow) & (v['type'] == l6_ch)\n",
    "            & (v['prn'] == prn_ref)]\n",
    "    if len(vi) > 0:\n",
    "        cs.decode_l6msg(unhexlify(vi['nav'][0]), 0)\n",
    "        if cs.fcnt == 5:  # end of sub-frame\n",
    "            cs.decode_cssr(bytes(cs.buff), 0)\n",
    "\n",
    "    if ne == 0:\n",
    "        nav.t = deepcopy(obs.t)\n",
    "        t0 = deepcopy(obs.t)\n",
    "        t0.time = t0.time//30*30\n",
    "        cs.time = obs.t\n",
    "        nav.time_p = t0\n",
    "\n",
    "    cstat = cs.chk_stat()\n",
    "    if cstat:\n",
    "        ppprtk.process(obs, cs=cs)\n",
    "\n",
    "    t[ne] = timediff(nav.t, t0) / 60\n",
    "\n",
    "    sol = nav.xa[0:3] if nav.smode == 4 else nav.x[0:3]\n",
    "    enu[ne, :] = gn.ecef2enu(pos_ref, sol-xyz_ref)\n",
    "    smode[ne] = nav.smode\n",
    "\n",
    "    # Log to standard output\n",
    "    stdout.write('\\r {} ENU {:7.3f} {:7.3f} {:7.3f}, 2D {:6.3f}, mode {:1d}'\n",
    "                  .format(time2str(obs.t),\n",
    "                          enu[ne, 0], enu[ne, 1], enu[ne, 2],\n",
    "                          np.sqrt(enu[ne, 0]**2+enu[ne, 1]**2),\n",
    "                          smode[ne]))\n",
    "\n",
    "    # Get new epoch, exit after last epoch\n",
    "    obs = rnx.decode_obs()\n",
    "    if obs.t.time == 0:\n",
    "        break\n",
    "\n",
    "rnx.fobs.close()\n"
   ]
  },
  {
   "cell_type": "markdown",
   "id": "e897c3b5",
   "metadata": {
    "id": "e897c3b5"
   },
   "source": [
    "RTK mode status (4: fix, 5: float, 0: no-solution) is defined for plotting."
   ]
  },
  {
   "cell_type": "code",
   "execution_count": 59,
   "id": "cbdf21fb",
   "metadata": {
    "id": "cbdf21fb"
   },
   "outputs": [],
   "source": [
    "idx4 = np.where(smode == 4)[0]\n",
    "idx5 = np.where(smode == 5)[0]\n",
    "idx0 = np.where(smode == 0)[0]"
   ]
  },
  {
   "cell_type": "markdown",
   "id": "sZlaW82rOoVK",
   "metadata": {
    "id": "sZlaW82rOoVK"
   },
   "source": [
    "Plot the solution position relative to the reference position.\n",
    "\n",
    "A complete set of QZSS CLAS corrections is available every 30 seconds.  An ambiguity-fixed solution, as indicated by the green dots in the plot, is available just after the QZSS CLAS correction messages have been received. As expected,\n",
    "the positioning errors are at centimeter level."
   ]
  },
  {
   "cell_type": "code",
   "execution_count": 61,
   "id": "11df8601",
   "metadata": {
    "colab": {
     "base_uri": "https://localhost:8080/",
     "height": 778
    },
    "id": "11df8601",
    "outputId": "afd73534-13a6-4451-f5ff-c1b56ddb330e"
   },
   "outputs": [
    {
     "data": {
      "image/png": "[encoded data removed]",
      "text/plain": [
       "<Figure size 504x648 with 3 Axes>"
      ]
     },
     "metadata": {},
     "output_type": "display_data"
    }
   ],
   "source": [
    "ylim = 0.2\n",
    "fig = plt.figure(figsize=[7, 9])\n",
    "lbl_t = ['East[m]', 'North[m]', 'Up[m]']\n",
    "for k in range(3):\n",
    "    plt.subplot(3, 1, k+1)\n",
    "    plt.plot(t[idx0], enu[idx0, k], 'r.', label='none')\n",
    "    plt.plot(t[idx5], enu[idx5, k], 'y.', label='float')\n",
    "    plt.plot(t[idx4], enu[idx4, k], 'g.', label='fix')\n",
    "\n",
    "    if k == 2:\n",
    "        plt.xlabel('Time [min]')\n",
    "        plt.legend()\n",
    "    plt.ylabel(lbl_t[k])\n",
    "    plt.grid()\n",
    "    plt.ylim([-ylim, ylim])\n",
    "plt.show()"
   ]
  },
  {
   "cell_type": "markdown",
   "id": "6EC-s_PGXwlG",
   "metadata": {
    "id": "6EC-s_PGXwlG"
   },
   "source": [
    "Plot the horizontal errors."
   ]
  },
  {
   "cell_type": "code",
   "execution_count": 62,
   "id": "ce83ece4",
   "metadata": {
    "colab": {
     "base_uri": "https://localhost:8080/",
     "height": 547
    },
    "id": "ce83ece4",
    "outputId": "481782dd-bb3f-4363-f5b2-595522597883"
   },
   "outputs": [
    {
     "data": {
      "image/png": "[encoded data removed]",
      "text/plain": [
       "<Figure size 432x432 with 1 Axes>"
      ]
     },
     "metadata": {},
     "output_type": "display_data"
    }
   ],
   "source": [
    "fig = plt.figure(figsize=[6,6])\n",
    "plt.plot(enu[idx0, 0],enu[idx0, 1], 'r.', label='standalone')\n",
    "plt.plot(enu[idx5, 0],enu[idx5, 1], 'y.', label='float')\n",
    "plt.plot(enu[idx4, 0],enu[idx4, 1], 'g.', label='fixed')\n",
    "plt.xlabel('easting [m]')\n",
    "plt.ylabel('northing [m]')\n",
    "plt.axis([-ylim,ylim,-ylim,ylim])\n",
    "plt.grid()\n",
    "plt.legend()\n",
    "plt.show()"
   ]
  },
  {
   "cell_type": "markdown",
   "id": "rKUv0nEl8vDm",
   "metadata": {
    "id": "rKUv0nEl8vDm"
   },
   "source": [
    "\n",
    "## Example 6: PPP-AR positioning (IGS)\n",
    "\n",
    "This section demonstrates PPP positioning using IGS offline products from the International GNSS Service (IGS) and a Septentrio PolaRx5 receiver. In this case, the orbit and clock offset information is obtained from\n",
    "SP3 files and, optionally, Clock-RINEX files can be used. Pseudorange and carrier-phase observable specific biases (OSBs) are\n",
    "loaded from Bias-SINEX files."
   ]
  },
  {
   "cell_type": "markdown",
   "id": "_ltFQVZeoWr9",
   "metadata": {
    "id": "_ltFQVZeoWr9"
   },
   "source": [
    "First, load the required Python modules."
   ]
  },
  {
   "cell_type": "code",
   "execution_count": 88,
   "id": "iP6Q1ifMKzDG",
   "metadata": {
    "id": "iP6Q1ifMKzDG"
   },
   "outputs": [],
   "source": [
    "from copy import deepcopy\n",
    "import matplotlib.pyplot as plt\n",
    "import matplotlib.dates as md\n",
    "import numpy as np\n",
    "from sys import stdout\n",
    "\n",
    "import cssrlib.gnss as gn\n",
    "from cssrlib.gnss import ecef2pos, Nav\n",
    "from cssrlib.gnss import time2doy, time2str, timediff, epoch2time\n",
    "from cssrlib.gnss import rSigRnx\n",
    "from cssrlib.gnss import sys2str\n",
    "from cssrlib.peph import atxdec, searchpcv\n",
    "from cssrlib.peph import peph, biasdec\n",
    "from cssrlib.pppssr import pppos\n",
    "from cssrlib.rinex import rnxdec"
   ]
  },
  {
   "cell_type": "markdown",
   "id": "GITYAIKuKzDR",
   "metadata": {
    "id": "GITYAIKuKzDR"
   },
   "source": [
    "Define the input data and parameters for this example"
   ]
  },
  {
   "cell_type": "code",
   "execution_count": 89,
   "id": "B8Rm_x8yKzDR",
   "metadata": {
    "id": "B8Rm_x8yKzDR"
   },
   "outputs": [],
   "source": [
    "# Start epoch, number of epochs\n",
    "ep = [2023, 8, 11, 21, 0, 0]\n",
    "\n",
    "time = epoch2time(ep)\n",
    "year = ep[0]\n",
    "doy = int(time2doy(time))\n",
    "\n",
    "navfile = 'cssrlib-data/data/doy223/BRD400DLR_S_20232230000_01D_MN.rnx'\n",
    "obsfile = 'cssrlib-data/data/doy223/SEPT223Y.23O'\n",
    "\n",
    "# Specify PPP correction files\n",
    "orbfile = 'cssrlib-data/data/COD0MGXFIN_20232230000_01D_05M_ORB.SP3'\n",
    "clkfile = 'cssrlib-data/data/COD0MGXFIN_20232230000_01D_30S_CLK.CLK'\n",
    "bsxfile = 'cssrlib-data/data/COD0MGXFIN_20232230000_01D_01D_OSB.BIA'\n",
    "\n",
    "# Set user reference position\n",
    "xyz_ref = [-3962108.7063, 3381309.5703, 3668678.6690]\n",
    "pos_ref = ecef2pos(xyz_ref)\n",
    "\n",
    "# Define signals to be processed\n",
    "sigs = [rSigRnx(\"GC1C\"), rSigRnx(\"GC2W\"),\n",
    "        rSigRnx(\"GL1C\"), rSigRnx(\"GL2W\"),\n",
    "        rSigRnx(\"GS1C\"), rSigRnx(\"GS2W\"),\n",
    "        rSigRnx(\"EC1C\"), rSigRnx(\"EC5Q\"),\n",
    "        rSigRnx(\"EL1C\"), rSigRnx(\"EL5Q\"),\n",
    "        rSigRnx(\"ES1C\"), rSigRnx(\"ES5Q\")]\n",
    "\n",
    "atxfile = 'cssrlib-data/data/I20.ATX'"
   ]
  },
  {
   "cell_type": "markdown",
   "id": "wPNb6p1rKzDR",
   "metadata": {
    "id": "wPNb6p1rKzDR"
   },
   "source": [
    "Load and parse the input data"
   ]
  },
  {
   "cell_type": "code",
   "execution_count": 90,
   "id": "_1PZV8NaKzDS",
   "metadata": {
    "id": "_1PZV8NaKzDS"
   },
   "outputs": [],
   "source": [
    "rnx = rnxdec()\n",
    "rnx.setSignals(sigs)\n",
    "\n",
    "nav = Nav()\n",
    "orb = peph()\n",
    "\n",
    "nav.pmode = 0 # Positioning mode: 0:static, 1:kinematic\n",
    "\n",
    "# Decode RINEX NAV data\n",
    "nav = rnx.decode_nav(navfile, nav)\n",
    "\n",
    "# Load precise orbits and clock offsets\n",
    "nav = orb.parse_sp3(orbfile, nav)\n",
    "nav = rnx.decode_clk(clkfile, nav)\n",
    "\n",
    "# Load code and phase biases from Bias-SINEX\n",
    "bsx = biasdec()\n",
    "bsx.parse(bsxfile)\n",
    "\n",
    "# Load ANTEX data for satellites and stations\n",
    "atx = atxdec()\n",
    "atx.readpcv(atxfile)\n",
    "\n",
    "nav.monlevel = 0  # Logging level\n",
    "\n",
    "# Load RINEX OBS file header\n",
    "if rnx.decode_obsh(obsfile) >= 0:\n",
    "\n",
    "    # Auto-substitute signals\n",
    "    rnx.autoSubstituteSignals()\n",
    "\n",
    "    # Initialize position\n",
    "    ppp = pppos(nav, rnx.pos, 'test_pppigs.log')\n",
    "    nav.ephopt = 4  # IGS\n",
    "    nav.armode = 3\n",
    "\n",
    "    # change default settings\n",
    "    nav.elmin = np.deg2rad(5.0)  # min sat elevation\n",
    "    nav.thresar = 2.0            # ambiguity resolution threshold\n",
    "\n",
    "    # Set PCO/PCV information\n",
    "    nav.sat_ant = atx.pcvs\n",
    "    nav.rcv_ant = searchpcv(atx.pcvr, rnx.ant,  rnx.ts)"
   ]
  },
  {
   "cell_type": "markdown",
   "id": "WLp7TAJdKzDS",
   "metadata": {
    "id": "WLp7TAJdKzDS"
   },
   "source": [
    "Print the available and selected satellite signals"
   ]
  },
  {
   "cell_type": "code",
   "execution_count": 91,
   "id": "Ry_M-9k0KzDS",
   "metadata": {
    "colab": {
     "base_uri": "https://localhost:8080/"
    },
    "id": "Ry_M-9k0KzDS",
    "outputId": "e238d2df-a79e-48a5-f2ac-bf3d1c3c0970"
   },
   "outputs": [
    {
     "name": "stdout",
     "output_type": "stream",
     "text": [
      "Available signals\n",
      "GPS     C1C L1C D1C S1C C1W S1W C2W L2W D2W S2W C2L L2L D2L S2L C5Q L5Q D5Q S5Q C1L L1L D1L S1L\n",
      "GALILEO C1C L1C D1C S1C C6C L6C D6C S6C C5Q L5Q D5Q S5Q C7Q L7Q D7Q S7Q C8Q L8Q D8Q S8Q\n",
      "SBAS    C1C L1C D1C S1C C5I L5I D5I S5I\n",
      "GLONASS C1C L1C D1C S1C C1P L1P D1P S1P C2P L2P D2P S2P C2C L2C D2C S2C C3Q L3Q D3Q S3Q\n",
      "BEIDOU  C1P L1P D1P S1P C5P L5P D5P S5P C2I L2I D2I S2I C7I L7I D7I S7I C6I L6I D6I S6I C7D L7D D7D S7D\n",
      "QZSS    C1C L1C D1C S1C C2L L2L D2L S2L C5Q L5Q D5Q S5Q C1L L1L D1L S1L C1Z L1Z D1Z S1Z C5P L5P D5P S5P\n",
      "IRNSS   C5A L5A D5A S5A\n",
      "\n",
      "Selected signals\n",
      "GPS     C1C C2W L1C L2W S1C S2W \n",
      "GALILEO C1C C5Q L1C L5Q S1C S5Q \n"
     ]
    }
   ],
   "source": [
    "print(\"Available signals\")\n",
    "for sys, sigs in rnx.sig_map.items():\n",
    "  txt = \"{:7s} {}\".format(sys2str(sys),\n",
    "        ' '.join([sig.str() for sig in sigs.values()]))\n",
    "  print(txt)\n",
    "\n",
    "print(\"\\nSelected signals\")\n",
    "for sys, tmp in rnx.sig_tab.items():\n",
    "  txt = \"{:7s} \".format(sys2str(sys))\n",
    "  for _, sigs in tmp.items():\n",
    "    txt += \"{} \".format(' '.join([sig.str() for sig in sigs]))\n",
    "  print(txt)"
   ]
  },
  {
   "cell_type": "markdown",
   "id": "o9w39_PgKzDS",
   "metadata": {
    "id": "o9w39_PgKzDS"
   },
   "source": [
    "Run solution for 5 minutes (ok to abort before finished)"
   ]
  },
  {
   "cell_type": "code",
   "execution_count": 92,
   "id": "F6yvNFBMKzDS",
   "metadata": {
    "colab": {
     "base_uri": "https://localhost:8080/"
    },
    "id": "F6yvNFBMKzDS",
    "outputId": "6a0f5543-c685-40f8-e55b-0cfb0b50694a"
   },
   "outputs": [
    {
     "name": "stdout",
     "output_type": "stream",
     "text": [
      " 2023-08-11 21:15:00 ENU  -0.010  -0.003   0.004, 2D  0.011, mode 4"
     ]
    }
   ],
   "source": [
    "# increase to run longer, set to 10 minutes to see ambiguity resolution\n",
    "nep = 15 * 60  # 15 minutes\n",
    "\n",
    "# Intialize data structures for results\n",
    "t = np.zeros(nep)\n",
    "tc = np.zeros(nep)\n",
    "enu = np.ones((nep, 3))*np.nan\n",
    "sol = np.zeros((nep, 4))\n",
    "dop = np.zeros((nep, 4))\n",
    "ztd = np.zeros((nep, 1))\n",
    "smode = np.zeros(nep, dtype=int)\n",
    "\n",
    "# Skip epochs until start time\n",
    "obs = rnx.decode_obs()\n",
    "while time > obs.t and obs.t.time != 0:\n",
    "    obs = rnx.decode_obs()\n",
    "\n",
    "# Loop over number of epoch from file start\n",
    "for ne in range(nep):\n",
    "\n",
    "    # Set initial epoch\n",
    "    if ne == 0:\n",
    "        nav.t = deepcopy(obs.t)\n",
    "        t0 = deepcopy(obs.t)\n",
    "\n",
    "    # Call PPP module with IGS products\n",
    "    ppp.process(obs, orb=orb, bsx=bsx)\n",
    "\n",
    "    # Save output\n",
    "    t[ne] = timediff(nav.t, t0) / 86400.0\n",
    "\n",
    "    sol = nav.xa[0:3] if nav.smode == 4 else nav.x[0:3]\n",
    "    enu[ne, :] = gn.ecef2enu(pos_ref, sol-xyz_ref)\n",
    "\n",
    "    ztd[ne] = nav.xa[ppp.IT(nav.na)] if nav.smode == 4 else nav.x[ppp.IT(nav.na)]\n",
    "    smode[ne] = nav.smode\n",
    "\n",
    "    # Log to standard output\n",
    "    stdout.write('\\r {} ENU {:7.3f} {:7.3f} {:7.3f}, 2D {:6.3f}, mode {:1d}'\n",
    "                 .format(time2str(obs.t),\n",
    "                         enu[ne, 0], enu[ne, 1], enu[ne, 2],\n",
    "                         np.sqrt(enu[ne, 0]**2+enu[ne, 1]**2),\n",
    "                         smode[ne]))\n",
    "\n",
    "    # Get new epoch, exit after last epoch\n",
    "    obs = rnx.decode_obs()\n",
    "    if obs.t.time == 0:\n",
    "        break\n",
    "\n",
    "rnx.fobs.close()\n"
   ]
  },
  {
   "cell_type": "markdown",
   "id": "UIN1k3sPKzDT",
   "metadata": {
    "id": "UIN1k3sPKzDT"
   },
   "source": [
    "Plot results.\n",
    "\n",
    "The default run length is set to 5 minutes to keep the tutorial moving, but if the run length is increased to 10 minutes, it will be seen that the horizontal errors reach less than 10 cm after approximately 6 minutes and ambiguity resolution is achieved after less than 9 minutes"
   ]
  },
  {
   "cell_type": "code",
   "execution_count": 93,
   "id": "iXeH8x2HKzDT",
   "metadata": {
    "colab": {
     "base_uri": "https://localhost:8080/",
     "height": 795
    },
    "id": "iXeH8x2HKzDT",
    "outputId": "216de780-8018-45c5-8747-54bd99bf4d61"
   },
   "outputs": [
    {
     "data": {
      "text/plain": [
       "<matplotlib.legend.Legend at 0x2e2ab70da10>"
      ]
     },
     "execution_count": 93,
     "metadata": {},
     "output_type": "execute_result"
    },
    {
     "data": {
      "image/png": "[encoded data removed]",
      "text/plain": [
       "<Figure size 504x648 with 4 Axes>"
      ]
     },
     "metadata": {},
     "output_type": "display_data"
    }
   ],
   "source": [
    "ylim = 1.0\n",
    "\n",
    "idx4 = np.where(smode == 4)[0]   # fix\n",
    "idx5 = np.where(smode == 5)[0]   # float\n",
    "idx0 = np.where(smode == 0)[0]   # none\n",
    "\n",
    "fig = plt.figure(figsize=[7, 9])\n",
    "fig.set_rasterized(True)\n",
    "fmt = '%H:%M'\n",
    "\n",
    "lbl_t = ['East [m]', 'North [m]', 'Up [m]']\n",
    "\n",
    "for k in range(3):\n",
    "    plt.subplot(4, 1, k+1)\n",
    "    plt.plot_date(t[idx0], enu[idx0, k], 'r.')\n",
    "    plt.plot_date(t[idx5], enu[idx5, k], 'y.')\n",
    "    plt.plot_date(t[idx4], enu[idx4, k], 'g.')\n",
    "\n",
    "    plt.ylabel(lbl_t[k])\n",
    "    plt.grid()\n",
    "    plt.ylim([-ylim, ylim])\n",
    "    plt.gca().xaxis.set_major_formatter(md.DateFormatter(fmt))\n",
    "\n",
    "plt.subplot(4, 1, 4)\n",
    "plt.plot_date(t[idx0], ztd[idx0]*1e2, 'r.', markersize=8, label='none')\n",
    "plt.plot_date(t[idx5], ztd[idx5]*1e2, 'y.', markersize=8, label='float')\n",
    "plt.plot_date(t[idx4], ztd[idx4]*1e2, 'g.', markersize=8, label='fix')\n",
    "plt.ylabel('ZTD [cm]')\n",
    "plt.grid()\n",
    "plt.gca().xaxis.set_major_formatter(md.DateFormatter(fmt))\n",
    "\n",
    "plt.xlabel('Time [HH:MM]')\n",
    "plt.legend()\n"
   ]
  },
  {
   "cell_type": "markdown",
   "id": "8993fc13",
   "metadata": {
    "id": "8993fc13"
   },
   "source": [
    "## Example 7: PPP positioning (BeiDou PPP)\n",
    "\n",
    "This section demonstrates PPP-RTK positioning using BeiDou B1C and B2a pilot observations for BeiDou-3 B2b PPP and GPS L1 C/A and L2 P(Y) with a Septentrio PolaRx5 receiver."
   ]
  },
  {
   "cell_type": "markdown",
   "id": "ul3qp8h3oHin",
   "metadata": {
    "id": "ul3qp8h3oHin"
   },
   "source": [
    "First, load the required Python modules."
   ]
  },
  {
   "cell_type": "code",
   "execution_count": 115,
   "id": "IGih7GGt_9z6",
   "metadata": {
    "id": "IGih7GGt_9z6"
   },
   "outputs": [],
   "source": [
    "from binascii import unhexlify\n",
    "from copy import deepcopy\n",
    "import matplotlib.pyplot as plt\n",
    "import matplotlib.dates as md\n",
    "import numpy as np\n",
    "from sys import stdout\n",
    "\n",
    "import cssrlib.gnss as gn\n",
    "from cssrlib.gnss import ecef2pos, Nav\n",
    "from cssrlib.gnss import time2gpst, time2doy, time2str, timediff, epoch2time\n",
    "from cssrlib.gnss import rSigRnx\n",
    "from cssrlib.gnss import sys2str\n",
    "from cssrlib.peph import atxdec, searchpcv\n",
    "from cssrlib.peph import peph\n",
    "from cssrlib.cssr_bds import cssr_bds\n",
    "from cssrlib.pppssr import pppos\n",
    "from cssrlib.rinex import rnxdec"
   ]
  },
  {
   "cell_type": "markdown",
   "id": "eGLKroylAeUU",
   "metadata": {
    "id": "eGLKroylAeUU"
   },
   "source": [
    "Define the input data and parameters for this example"
   ]
  },
  {
   "cell_type": "code",
   "execution_count": 116,
   "id": "hYbK60gqAfWG",
   "metadata": {
    "id": "hYbK60gqAfWG"
   },
   "outputs": [],
   "source": [
    "ep = [2023, 8, 11, 21, 0, 0] # start epoch\n",
    "\n",
    "navfile = 'cssrlib-data/data/doy223/BRD400DLR_S_20232230000_01D_MN.rnx'\n",
    "obsfile = 'cssrlib-data/data/doy223/SEPT223Y.23O'  # PolaRX5\n",
    "atxfile = 'cssrlib-data/data/igs20.atx'\n",
    "file_bds = 'cssrlib-data/data/doy223/223v_bdsb2b.txt'\n",
    "prn_ref = 59  # satellite PRN to receive BDS PPP collection\n",
    "\n",
    "dtype = [('wn', 'int'), ('tow', 'int'), ('prn', 'int'),\n",
    "         ('type', 'int'), ('len', 'int'), ('nav', 'S124')]\n",
    "\n",
    "xyz_ref = [-3962108.7007, 3381309.5532, 3668678.6648]\n",
    "pos_ref = ecef2pos(xyz_ref)\n",
    "\n",
    "# Define signals to be processed\n",
    "sigs = [rSigRnx(\"GC1C\"), rSigRnx(\"GC2W\"),\n",
    "        rSigRnx(\"GL1C\"), rSigRnx(\"GL2W\"),\n",
    "        rSigRnx(\"GS1C\"), rSigRnx(\"GS2W\"),\n",
    "        rSigRnx(\"CC1P\"), rSigRnx(\"CC5P\"),\n",
    "        rSigRnx(\"CL1P\"), rSigRnx(\"CL5P\"),\n",
    "        rSigRnx(\"CS1P\"), rSigRnx(\"CS5P\")]\n",
    "\n",
    "time = epoch2time(ep)\n",
    "year = ep[0]\n",
    "doy = int(time2doy(time))"
   ]
  },
  {
   "cell_type": "markdown",
   "id": "PrqsDGtJAdTY",
   "metadata": {
    "id": "PrqsDGtJAdTY"
   },
   "source": [
    "Load and parse the input data"
   ]
  },
  {
   "cell_type": "code",
   "execution_count": 117,
   "id": "E56Qi-3cENFV",
   "metadata": {
    "id": "E56Qi-3cENFV"
   },
   "outputs": [],
   "source": [
    "rnx = rnxdec()\n",
    "rnx.setSignals(sigs)\n",
    "\n",
    "nav = Nav()\n",
    "orb = peph()\n",
    "\n",
    "nav.pmode = 0 # Positioning mode: 0:static, 1:kinematic\n",
    "\n",
    "# Decode RINEX NAV data\n",
    "nav = rnx.decode_nav(navfile, nav)\n",
    "\n",
    "# Load PPP corrections\n",
    "v = np.genfromtxt(file_bds, dtype=dtype)\n",
    "\n",
    "cs = cssr_bds()\n",
    "cs.monlevel = 0\n",
    "\n",
    "# Load ANTEX data for satellites and stations\n",
    "atx = atxdec()\n",
    "atx.readpcv(atxfile)\n",
    "\n",
    "nav.monlevel = 0  # Logging level\n",
    "\n",
    "# Load RINEX OBS file header\n",
    "if rnx.decode_obsh(obsfile) >= 0:\n",
    "\n",
    "    # Auto-substitute signals\n",
    "    rnx.autoSubstituteSignals()\n",
    "\n",
    "    # Initialize position\n",
    "    ppp = pppos(nav, rnx.pos, 'test_pppbds.log')\n",
    "\n",
    "    # Set PCO/PCV information\n",
    "    nav.sat_ant = atx.pcvs\n",
    "    nav.rcv_ant = searchpcv(atx.pcvr, rnx.ant,  rnx.ts)"
   ]
  },
  {
   "cell_type": "markdown",
   "id": "tghWoxc9EhfE",
   "metadata": {
    "id": "tghWoxc9EhfE"
   },
   "source": [
    "Print the available and selected satellite signals"
   ]
  },
  {
   "cell_type": "code",
   "execution_count": 118,
   "id": "DEDeJQscFYG9",
   "metadata": {
    "colab": {
     "base_uri": "https://localhost:8080/"
    },
    "id": "DEDeJQscFYG9",
    "outputId": "863b7757-f882-49df-8121-aac2cf756a27"
   },
   "outputs": [
    {
     "name": "stdout",
     "output_type": "stream",
     "text": [
      "Available signals\n",
      "GPS     C1C L1C D1C S1C C1W S1W C2W L2W D2W S2W C2L L2L D2L S2L C5Q L5Q D5Q S5Q C1L L1L D1L S1L\n",
      "GALILEO C1C L1C D1C S1C C6C L6C D6C S6C C5Q L5Q D5Q S5Q C7Q L7Q D7Q S7Q C8Q L8Q D8Q S8Q\n",
      "SBAS    C1C L1C D1C S1C C5I L5I D5I S5I\n",
      "GLONASS C1C L1C D1C S1C C1P L1P D1P S1P C2P L2P D2P S2P C2C L2C D2C S2C C3Q L3Q D3Q S3Q\n",
      "BEIDOU  C1P L1P D1P S1P C5P L5P D5P S5P C2I L2I D2I S2I C7I L7I D7I S7I C6I L6I D6I S6I C7D L7D D7D S7D\n",
      "QZSS    C1C L1C D1C S1C C2L L2L D2L S2L C5Q L5Q D5Q S5Q C1L L1L D1L S1L C1Z L1Z D1Z S1Z C5P L5P D5P S5P\n",
      "IRNSS   C5A L5A D5A S5A\n",
      "\n",
      "Selected signals\n",
      "GPS     C1C C2W L1C L2W S1C S2W \n",
      "BEIDOU  C1P C5P L1P L5P S1P S5P \n"
     ]
    }
   ],
   "source": [
    "print(\"Available signals\")\n",
    "for sys, sigs in rnx.sig_map.items():\n",
    "  txt = \"{:7s} {}\".format(sys2str(sys),\n",
    "        ' '.join([sig.str() for sig in sigs.values()]))\n",
    "  print(txt)\n",
    "\n",
    "print(\"\\nSelected signals\")\n",
    "for sys, tmp in rnx.sig_tab.items():\n",
    "  txt = \"{:7s} \".format(sys2str(sys))\n",
    "  for _, sigs in tmp.items():\n",
    "    txt += \"{} \".format(' '.join([sig.str() for sig in sigs]))\n",
    "  print(txt)"
   ]
  },
  {
   "cell_type": "markdown",
   "id": "AmIWL6FBEsJW",
   "metadata": {
    "id": "AmIWL6FBEsJW"
   },
   "source": [
    "Process data for 10 minutes (ok to abort before finished)"
   ]
  },
  {
   "cell_type": "code",
   "execution_count": 119,
   "id": "GMsOCMUPEtvP",
   "metadata": {
    "colab": {
     "base_uri": "https://localhost:8080/"
    },
    "id": "GMsOCMUPEtvP",
    "outputId": "7bf96376-2da3-44ec-c90b-2ba5ed733e5a"
   },
   "outputs": [
    {
     "name": "stdout",
     "output_type": "stream",
     "text": [
      " 2023-08-11 21:00:27 ENU  -0.326   0.125   1.149, 2D  0.349, mode 0 too few satellites < 6: nsat=5\n",
      " 2023-08-11 21:15:00 ENU   0.413  -0.225   0.061, 2D  0.470, mode 5"
     ]
    }
   ],
   "source": [
    "nep = 15 * 60  # increase this to run longer\n",
    "\n",
    "# Intialize data structures for results\n",
    "t = np.zeros(nep)\n",
    "tc = np.zeros(nep)\n",
    "enu = np.ones((nep, 3))*np.nan\n",
    "sol = np.zeros((nep, 4))\n",
    "dop = np.zeros((nep, 4))\n",
    "ztd = np.zeros((nep, 1))\n",
    "smode = np.zeros(nep, dtype=int)\n",
    "\n",
    "# Skip epochs until start time\n",
    "obs = rnx.decode_obs()\n",
    "while time > obs.t and obs.t.time != 0:\n",
    "    obs = rnx.decode_obs()\n",
    "\n",
    "# Loop over number of epoch from file start\n",
    "for ne in range(nep):\n",
    "    week, tow = time2gpst(obs.t)\n",
    "    cs.week = week\n",
    "    cs.tow0 = tow // 86400 * 86400\n",
    "\n",
    "    # Set intial epoch\n",
    "    if ne == 0:\n",
    "        nav.t = deepcopy(obs.t)\n",
    "        t0 = deepcopy(obs.t)\n",
    "        t0.time = t0.time // 30 * 30\n",
    "        nav.time_p = t0\n",
    "\n",
    "    vi = v[(v['tow'] == tow) & (v['prn'] == prn_ref)]\n",
    "    if len(vi) > 0:\n",
    "        buff = unhexlify(vi['nav'][0])\n",
    "        cs.decode_cssr(buff, 0)\n",
    "\n",
    "    # Call PPP module with BDS-PPP corrections\n",
    "    if (cs.lc[0].cstat & 0xf) == 0xf:\n",
    "        ppp.process(obs, cs=cs)\n",
    "\n",
    "    # Save output\n",
    "    t[ne] = timediff(nav.t, t0) / 86400.0\n",
    "\n",
    "    sol = nav.xa[0:3] if nav.smode == 4 else nav.x[0:3]\n",
    "    enu[ne, :] = gn.ecef2enu(pos_ref, sol-xyz_ref)\n",
    "\n",
    "    ztd[ne] = nav.xa[ppp.IT(nav.na)] if nav.smode == 4 else nav.x[ppp.IT(nav.na)]\n",
    "    smode[ne] = nav.smode\n",
    "\n",
    "    # Log to standard output\n",
    "    stdout.write('\\r {} ENU {:7.3f} {:7.3f} {:7.3f}, 2D {:6.3f}, mode {:1d}'\n",
    "                 .format(time2str(obs.t),\n",
    "                         enu[ne, 0], enu[ne, 1], enu[ne, 2],\n",
    "                         np.sqrt(enu[ne, 0]**2+enu[ne, 1]**2),\n",
    "                         smode[ne]))\n",
    "\n",
    "    # Get new epoch, exit after last epoch\n",
    "    obs = rnx.decode_obs()\n",
    "    if obs.t.time == 0:\n",
    "        break\n",
    "\n",
    "rnx.fobs.close()"
   ]
  },
  {
   "cell_type": "markdown",
   "id": "-QkxrW1_GVYU",
   "metadata": {
    "id": "-QkxrW1_GVYU"
   },
   "source": [
    "Plot results"
   ]
  },
  {
   "cell_type": "code",
   "execution_count": 120,
   "id": "ttuzs72KHeFs",
   "metadata": {
    "colab": {
     "base_uri": "https://localhost:8080/",
     "height": 795
    },
    "id": "ttuzs72KHeFs",
    "outputId": "797c28c9-5aa2-491c-a68a-fc3b38bbf64d"
   },
   "outputs": [
    {
     "data": {
      "text/plain": [
       "<matplotlib.legend.Legend at 0x2e2abdc45d0>"
      ]
     },
     "execution_count": 120,
     "metadata": {},
     "output_type": "execute_result"
    },
    {
     "data": {
      "image/png": "[encoded data removed]",
      "text/plain": [
       "<Figure size 504x648 with 4 Axes>"
      ]
     },
     "metadata": {},
     "output_type": "display_data"
    }
   ],
   "source": [
    "ylim = 2.0\n",
    "idx4 = np.where(smode == 4)[0]\n",
    "idx5 = np.where(smode == 5)[0]\n",
    "idx0 = np.where(smode == 0)[0]\n",
    "\n",
    "fig = plt.figure(figsize=[7, 9])\n",
    "fig.set_rasterized(True)\n",
    "lbl_t = ['East [m]', 'North [m]', 'Up [m]']\n",
    "fmt = '%H:%M'\n",
    "\n",
    "for k in range(3):\n",
    "    plt.subplot(4, 1, k+1)\n",
    "    plt.plot_date(t[idx0], enu[idx0, k], 'r.')\n",
    "    plt.plot_date(t[idx5], enu[idx5, k], 'y.')\n",
    "    plt.plot_date(t[idx4], enu[idx4, k], 'g.')\n",
    "\n",
    "    plt.ylabel(lbl_t[k])\n",
    "    plt.grid()\n",
    "    plt.ylim([-ylim, ylim])\n",
    "    plt.gca().xaxis.set_major_formatter(md.DateFormatter(fmt))\n",
    "\n",
    "plt.subplot(4, 1, 4)\n",
    "plt.plot_date(t[idx0], ztd[idx0]*1e2, 'r.', markersize=8, label='none')\n",
    "plt.plot_date(t[idx5], ztd[idx5]*1e2, 'y.', markersize=8, label='float')\n",
    "plt.plot_date(t[idx4], ztd[idx4]*1e2, 'g.', markersize=8, label='fix')\n",
    "plt.ylabel('ZTD [cm]')\n",
    "plt.grid()\n",
    "plt.gca().xaxis.set_major_formatter(md.DateFormatter(fmt))\n",
    "\n",
    "plt.xlabel('Time [HH:MM]')\n",
    "plt.legend()\n"
   ]
  },
  {
   "cell_type": "markdown",
   "id": "hPjJOF2T8uxG",
   "metadata": {
    "id": "hPjJOF2T8uxG"
   },
   "source": [
    "\n",
    "## Example 8: PPP positioning (Galileo HAS)\n",
    "\n",
    "This section demonstrates PPP positioning using Galileo HAS corrections with a Septentrio PolaRx5 receiver."
   ]
  },
  {
   "cell_type": "markdown",
   "id": "3CU6La60p2gQ",
   "metadata": {
    "id": "3CU6La60p2gQ"
   },
   "source": [
    "First, load the required Python modules."
   ]
  },
  {
   "cell_type": "code",
   "execution_count": 102,
   "id": "tQzCZh9--Ias",
   "metadata": {
    "id": "tQzCZh9--Ias"
   },
   "outputs": [],
   "source": [
    "from copy import deepcopy\n",
    "import matplotlib.pyplot as plt\n",
    "import matplotlib.dates as md\n",
    "import numpy as np\n",
    "from binascii import unhexlify\n",
    "import bitstruct as bs\n",
    "from sys import stdout\n",
    "\n",
    "import cssrlib.gnss as gn\n",
    "from cssrlib.gnss import ecef2pos, Nav\n",
    "from cssrlib.gnss import time2gpst, time2doy, time2str, timediff, epoch2time\n",
    "from cssrlib.gnss import rSigRnx\n",
    "from cssrlib.gnss import sys2str\n",
    "from cssrlib.peph import atxdec, searchpcv\n",
    "from cssrlib.peph import peph\n",
    "from cssrlib.cssr_has import cssr_has\n",
    "from cssrlib.pppssr import pppos\n",
    "from cssrlib.rinex import rnxdec"
   ]
  },
  {
   "cell_type": "markdown",
   "id": "EpWHwoJa-Ias",
   "metadata": {
    "id": "EpWHwoJa-Ias"
   },
   "source": [
    "Define the input data and parameters for this example"
   ]
  },
  {
   "cell_type": "code",
   "execution_count": 103,
   "id": "p9pQ2yeo-Iat",
   "metadata": {
    "id": "p9pQ2yeo-Iat"
   },
   "outputs": [],
   "source": [
    "# Start epoch and number of epochs\n",
    "ep = [2023, 8, 11, 21, 0, 0]\n",
    "time = epoch2time(ep)\n",
    "year = ep[0]\n",
    "doy = int(time2doy(time))\n",
    "\n",
    "obsfile = 'cssrlib-data/data/doy223/SEPT223Y.23O'  # PolaRX5'\n",
    "navfile = 'cssrlib-data/data/doy223/NAV223.23p'\n",
    "\n",
    "# Specify Galile HAS corrections files\n",
    "file_has = 'cssrlib-data/data/doy223/223v_gale6.txt'\n",
    "file_gm = \"cssrlib-data/samples/Galileo-HAS-SIS-ICD_1.0_Annex_B_Reed_Solomon_Generator_Matrix.txt\"\n",
    "\n",
    "dtype = [('wn', 'int'), ('tow', 'int'), ('prn', 'int'),\n",
    "         ('type', 'int'), ('len', 'int'), ('nav', 'S124')]\n",
    "\n",
    "# Set user reference position\n",
    "xyz_ref = [-3962108.7007, 3381309.5532, 3668678.6648]\n",
    "pos_ref = ecef2pos(xyz_ref)\n",
    "\n",
    "# Define signals to be processed\n",
    "sigs = [rSigRnx(\"GC1C\"), rSigRnx(\"GC2W\"),\n",
    "        rSigRnx(\"GL1C\"), rSigRnx(\"GL2W\"),\n",
    "        rSigRnx(\"GS1C\"), rSigRnx(\"GS2W\"),\n",
    "        rSigRnx(\"EC1C\"), rSigRnx(\"EC7Q\"),\n",
    "        rSigRnx(\"EL1C\"), rSigRnx(\"EL7Q\"),\n",
    "        rSigRnx(\"ES1C\"), rSigRnx(\"ES7Q\")]\n",
    "\n",
    "atxfile = 'cssrlib-data/data/igs14.atx'"
   ]
  },
  {
   "cell_type": "markdown",
   "id": "3ORyJKZI-Iat",
   "metadata": {
    "id": "3ORyJKZI-Iat"
   },
   "source": [
    "Load and parse the input data"
   ]
  },
  {
   "cell_type": "code",
   "execution_count": 104,
   "id": "G3uGHYHh-Iat",
   "metadata": {
    "id": "G3uGHYHh-Iat"
   },
   "outputs": [],
   "source": [
    "rnx = rnxdec()\n",
    "rnx.setSignals(sigs)\n",
    "\n",
    "nav = Nav()\n",
    "orb = peph()\n",
    "\n",
    "nav.pmode = 0 # Positioning mode: 0:static, 1:kinematic\n",
    "\n",
    "# Decode RINEX NAV data\n",
    "nav = rnx.decode_nav(navfile, nav)\n",
    "\n",
    "# Load PPP corrections\n",
    "v = np.genfromtxt(file_has, dtype=dtype)\n",
    "gMat = np.genfromtxt(file_gm, dtype=\"u1\", delimiter=\",\")\n",
    "\n",
    "# Load ANTEX data for satellites and stations\n",
    "atx = atxdec()\n",
    "atx.readpcv(atxfile)\n",
    "\n",
    "cs = cssr_has('has.log')\n",
    "nav.monlevel = 0  # Logging level\n",
    "\n",
    "# Load RINEX OBS file header\n",
    "if rnx.decode_obsh(obsfile) >= 0:\n",
    "\n",
    "    # Auto-substitute signals\n",
    "    rnx.autoSubstituteSignals()\n",
    "\n",
    "    # Initialize position\n",
    "    ppp = pppos(nav, rnx.pos, 'test_ppphas.log')\n",
    "\n",
    "    # Modify default config parameters\n",
    "    nav.elmin = np.deg2rad(5.0)  # min sat el\n",
    "\n",
    "    # Set PCO/PCV information\n",
    "    nav.sat_ant = atx.pcvs\n",
    "    nav.rcv_ant = searchpcv(atx.pcvr, rnx.ant,  rnx.ts)"
   ]
  },
  {
   "cell_type": "markdown",
   "id": "4rL8k8Vi-Iau",
   "metadata": {
    "id": "4rL8k8Vi-Iau"
   },
   "source": [
    "Print the available satellite and selected signals"
   ]
  },
  {
   "cell_type": "code",
   "execution_count": 105,
   "id": "n_Oxkxn--Iau",
   "metadata": {
    "colab": {
     "base_uri": "https://localhost:8080/"
    },
    "id": "n_Oxkxn--Iau",
    "outputId": "f2fdaca6-da70-4f10-fb65-fbe8d8e2f659"
   },
   "outputs": [
    {
     "name": "stdout",
     "output_type": "stream",
     "text": [
      "Available signals\n",
      "GPS     C1C L1C D1C S1C C1W S1W C2W L2W D2W S2W C2L L2L D2L S2L C5Q L5Q D5Q S5Q C1L L1L D1L S1L\n",
      "GALILEO C1C L1C D1C S1C C6C L6C D6C S6C C5Q L5Q D5Q S5Q C7Q L7Q D7Q S7Q C8Q L8Q D8Q S8Q\n",
      "SBAS    C1C L1C D1C S1C C5I L5I D5I S5I\n",
      "GLONASS C1C L1C D1C S1C C1P L1P D1P S1P C2P L2P D2P S2P C2C L2C D2C S2C C3Q L3Q D3Q S3Q\n",
      "BEIDOU  C1P L1P D1P S1P C5P L5P D5P S5P C2I L2I D2I S2I C7I L7I D7I S7I C6I L6I D6I S6I C7D L7D D7D S7D\n",
      "QZSS    C1C L1C D1C S1C C2L L2L D2L S2L C5Q L5Q D5Q S5Q C1L L1L D1L S1L C1Z L1Z D1Z S1Z C5P L5P D5P S5P\n",
      "IRNSS   C5A L5A D5A S5A\n",
      "\n",
      "Selected signals\n",
      "GPS     C1C C2W L1C L2W S1C S2W \n",
      "GALILEO C1C C7Q L1C L7Q S1C S7Q \n"
     ]
    }
   ],
   "source": [
    "print(\"Available signals\")\n",
    "for sys, sigs in rnx.sig_map.items():\n",
    "  txt = \"{:7s} {}\".format(sys2str(sys),\n",
    "        ' '.join([sig.str() for sig in sigs.values()]))\n",
    "  print(txt)\n",
    "\n",
    "print(\"\\nSelected signals\")\n",
    "for sys, tmp in rnx.sig_tab.items():\n",
    "  txt = \"{:7s} \".format(sys2str(sys))\n",
    "  for _, sigs in tmp.items():\n",
    "    txt += \"{} \".format(' '.join([sig.str() for sig in sigs]))\n",
    "  print(txt)"
   ]
  },
  {
   "cell_type": "markdown",
   "id": "ZRBRDQtw-Iau",
   "metadata": {
    "id": "ZRBRDQtw-Iau"
   },
   "source": [
    "Process data for 10 minutes (ok to abort before finished)"
   ]
  },
  {
   "cell_type": "code",
   "execution_count": 107,
   "id": "uVeqUA6A-Iav",
   "metadata": {
    "colab": {
     "base_uri": "https://localhost:8080/"
    },
    "id": "uVeqUA6A-Iav",
    "outputId": "8e1440b6-0917-4ef5-8fc9-0925b6df09d3"
   },
   "outputs": [
    {
     "name": "stdout",
     "output_type": "stream",
     "text": [
      " 2023-08-11 21:15:01 ENU   0.049  -0.512   0.356, 2D  0.514, mode 5"
     ]
    }
   ],
   "source": [
    "nep = 15 * 60  # increase this to run longer\n",
    "\n",
    "# Intialize data structures for results\n",
    "t = np.zeros(nep)\n",
    "enu = np.ones((nep, 3))*np.nan\n",
    "sol = np.zeros((nep, 4))\n",
    "ztd = np.zeros((nep, 1))\n",
    "smode = np.zeros(nep, dtype=int)\n",
    "\n",
    "# Init variables\n",
    "mid_, ms_, icnt = -1, -1, 0\n",
    "rec, mid_decoded = [], []\n",
    "has_pages = np.zeros((255, 53), dtype=int)\n",
    "\n",
    "# Skip epochs until start time\n",
    "obs = rnx.decode_obs()\n",
    "while time > obs.t and obs.t.time != 0:\n",
    "    obs = rnx.decode_obs()\n",
    "\n",
    "# Loop over number of epoch from file start\n",
    "for ne in range(nep):\n",
    "    week, tow = time2gpst(obs.t)\n",
    "    cs.week = week\n",
    "    cs.tow0 = tow // 3600 * 3600\n",
    "\n",
    "    # Set initial epoch\n",
    "    if ne == 0:\n",
    "        nav.t = deepcopy(obs.t)\n",
    "        t0 = deepcopy(obs.t)\n",
    "        t0.time = t0.time // 30 * 30\n",
    "        nav.time_p = t0\n",
    "\n",
    "    vi = v[v['tow'] == tow]\n",
    "    for vn in vi:\n",
    "        buff = unhexlify(vn['nav'])\n",
    "        i = 14\n",
    "        if bs.unpack_from('u24', buff, i)[0] == 0xaf3bc3:\n",
    "            continue\n",
    "        hass, res = bs.unpack_from('u2u2', buff, i)\n",
    "        i += 4\n",
    "        if hass >= 2:  # 0:test,1:operational,2:res,3:dnu\n",
    "            continue\n",
    "        mt, mid, ms, pid = bs.unpack_from('u2u5u5u8', buff, i)\n",
    "\n",
    "        cs.msgtype = mt\n",
    "        ms += 1\n",
    "        i += 20\n",
    "\n",
    "        if mid_ == -1 and mid not in mid_decoded:\n",
    "            mid_ = mid\n",
    "            ms_ = ms\n",
    "        if mid == mid_ and pid-1 not in rec:\n",
    "            page = bs.unpack_from('u8'*53, buff, i)\n",
    "            rec += [pid-1]\n",
    "            has_pages[pid-1, :] = page\n",
    "\n",
    "    if len(rec) >= ms_:\n",
    "        HASmsg = cs.decode_has_page(rec, has_pages, gMat, ms_)\n",
    "        cs.decode_cssr(HASmsg)\n",
    "        rec = []\n",
    "\n",
    "        mid_decoded += [mid_]\n",
    "        mid_ = -1\n",
    "        if len(mid_decoded) > 10:\n",
    "            mid_decoded = mid_decoded[1:]\n",
    "    else:\n",
    "        icnt += 1\n",
    "        if icnt > 2*ms_ and mid_ != -1:\n",
    "            icnt = 0\n",
    "            rec = []\n",
    "            mid_ = -1\n",
    "\n",
    "    # Call PPP module with HAS corrections\n",
    "    if (cs.lc[0].cstat & 0xf) == 0xf:\n",
    "        ppp.process(obs, cs=cs)\n",
    "\n",
    "    # Save output\n",
    "    t[ne] = timediff(nav.t, t0) / 86400.0\n",
    "\n",
    "    sol = nav.xa[0:3] if nav.smode == 4 else nav.x[0:3]\n",
    "    enu[ne, :] = gn.ecef2enu(pos_ref, sol-xyz_ref)\n",
    "\n",
    "    ztd[ne] = nav.xa[ppp.IT(nav.na)] if nav.smode == 4 else nav.x[ppp.IT(nav.na)]\n",
    "    smode[ne] = nav.smode\n",
    "\n",
    "    stdout.write('\\r {} ENU {:7.3f} {:7.3f} {:7.3f}, 2D {:6.3f}, mode {:1d}'\n",
    "                 .format(time2str(obs.t),\n",
    "                         enu[ne, 0], enu[ne, 1], enu[ne, 2],\n",
    "                         np.sqrt(enu[ne, 0]**2+enu[ne, 1]**2),\n",
    "                         smode[ne]))\n",
    "\n",
    "    # Get new epoch, exit after last epoch\n",
    "    obs = rnx.decode_obs()\n",
    "    if obs.t.time == 0:\n",
    "        break\n",
    "\n",
    "rnx.fobs.close()\n"
   ]
  },
  {
   "cell_type": "markdown",
   "id": "yXJXvBP5-Iav",
   "metadata": {
    "id": "yXJXvBP5-Iav"
   },
   "source": [
    "Plot results"
   ]
  },
  {
   "cell_type": "code",
   "execution_count": 108,
   "id": "jBUBDuDH-Iax",
   "metadata": {
    "colab": {
     "base_uri": "https://localhost:8080/",
     "height": 795
    },
    "id": "jBUBDuDH-Iax",
    "outputId": "d9fbe8c3-9ae9-48f5-cd48-325f07d63ab9"
   },
   "outputs": [
    {
     "data": {
      "text/plain": [
       "<matplotlib.legend.Legend at 0x2e2b21a2710>"
      ]
     },
     "execution_count": 108,
     "metadata": {},
     "output_type": "execute_result"
    },
    {
     "data": {
      "image/png": "[encoded data removed]",
      "text/plain": [
       "<Figure size 504x648 with 4 Axes>"
      ]
     },
     "metadata": {},
     "output_type": "display_data"
    }
   ],
   "source": [
    "ylim = 2.0\n",
    "\n",
    "idx4 = np.where(smode == 4)[0]\n",
    "idx5 = np.where(smode == 5)[0]\n",
    "idx0 = np.where(smode == 0)[0]\n",
    "\n",
    "fig = plt.figure(figsize=[7, 9])\n",
    "fig.set_rasterized(True)\n",
    "fmt = '%H:%M'\n",
    "\n",
    "lbl_t = ['East [m]', 'North [m]', 'Up [m]']\n",
    "\n",
    "for k in range(3):\n",
    "    plt.subplot(4, 1, k+1)\n",
    "    plt.plot_date(t[idx0], enu[idx0, k], 'r.')\n",
    "    plt.plot_date(t[idx5], enu[idx5, k], 'y.')\n",
    "    plt.plot_date(t[idx4], enu[idx4, k], 'g.')\n",
    "\n",
    "    plt.ylabel(lbl_t[k])\n",
    "    plt.grid()\n",
    "    plt.ylim([-ylim, ylim])\n",
    "    plt.gca().xaxis.set_major_formatter(md.DateFormatter(fmt))\n",
    "\n",
    "plt.subplot(4, 1, 4)\n",
    "plt.plot_date(t[idx0], ztd[idx0]*1e2, 'r.', markersize=8, label='none')\n",
    "plt.plot_date(t[idx5], ztd[idx5]*1e2, 'y.', markersize=8, label='float')\n",
    "plt.plot_date(t[idx4], ztd[idx4]*1e2, 'g.', markersize=8, label='fix')\n",
    "plt.ylabel('ZTD [cm]')\n",
    "plt.grid()\n",
    "plt.gca().xaxis.set_major_formatter(md.DateFormatter(fmt))\n",
    "\n",
    "plt.xlabel('Time [HH:MM]')\n",
    "plt.legend()\n"
   ]
  },
  {
   "cell_type": "markdown",
   "id": "OdegzV6Wpwb3",
   "metadata": {
    "id": "OdegzV6Wpwb3"
   },
   "source": []
  },
  {
   "cell_type": "markdown",
   "id": "nf1Rwd3u8vXK",
   "metadata": {
    "id": "nf1Rwd3u8vXK"
   },
   "source": [
    "\n",
    "## Example 9: PPP positioning (MADOCA)\n",
    "\n",
    "This section demonstrates PPP positioning using QZSS MADOCA corrections with a Septentrio PolaRx5 receiver."
   ]
  },
  {
   "cell_type": "markdown",
   "id": "to8XjhfTtpCu",
   "metadata": {
    "id": "to8XjhfTtpCu"
   },
   "source": [
    "First, load the required Python modules."
   ]
  },
  {
   "cell_type": "code",
   "execution_count": 109,
   "id": "wsXq8ow7Kt6-",
   "metadata": {
    "id": "wsXq8ow7Kt6-"
   },
   "outputs": [],
   "source": [
    "from copy import deepcopy\n",
    "import matplotlib.pyplot as plt\n",
    "import numpy as np\n",
    "from binascii import unhexlify\n",
    "from sys import stdout\n",
    "\n",
    "import cssrlib.gnss as gn\n",
    "from cssrlib.gnss import ecef2pos, Nav\n",
    "from cssrlib.gnss import time2gpst, time2doy, time2str, timediff, epoch2time\n",
    "from cssrlib.gnss import rSigRnx\n",
    "from cssrlib.gnss import sys2str\n",
    "from cssrlib.peph import atxdec, searchpcv\n",
    "from cssrlib.cssrlib import cssr\n",
    "from cssrlib.cssrlib import sCSSRTYPE as sc\n",
    "from cssrlib.pppssr import pppos\n",
    "from cssrlib.rinex import rnxdec"
   ]
  },
  {
   "cell_type": "markdown",
   "id": "sIWw2QoZKt7I",
   "metadata": {
    "id": "sIWw2QoZKt7I"
   },
   "source": [
    "Define the input data and parameters for this example"
   ]
  },
  {
   "cell_type": "code",
   "execution_count": 110,
   "id": "yzPWKG1oKt7I",
   "metadata": {
    "id": "yzPWKG1oKt7I"
   },
   "outputs": [],
   "source": [
    "# Start epoch and number of epochs\n",
    "ep = [2023, 8, 11, 21, 0, 0]\n",
    "\n",
    "time = epoch2time(ep)\n",
    "year = ep[0]\n",
    "doy = int(time2doy(time))\n",
    "\n",
    "obsfile = 'cssrlib-data/data/doy223/SEPT223Y.23O'\n",
    "navfile = 'cssrlib-data/data/doy223/NAV223.23p'\n",
    "\n",
    "# Specify L6 corrections files\n",
    "file_l6 = 'cssrlib-data/data/doy223/223v_qzsl6.txt'\n",
    "prn_ref = 199  # QZSS PRN\n",
    "l6_ch = 1  # 0:L6D, 1:L6E\n",
    "dtype = [('wn', 'int'), ('tow', 'int'), ('prn', 'int'),\n",
    "         ('type', 'int'), ('len', 'int'), ('nav', 'S500')]\n",
    "\n",
    "# Set user reference position\n",
    "xyz_ref = [-3962108.7007, 3381309.5532, 3668678.6648]\n",
    "pos_ref = ecef2pos(xyz_ref)\n",
    "\n",
    "# Define signals to be processed\n",
    "sigs = [rSigRnx(\"GC1C\"), rSigRnx(\"GC2W\"),\n",
    "        rSigRnx(\"GL1C\"), rSigRnx(\"GL2W\"),\n",
    "        rSigRnx(\"GS1C\"), rSigRnx(\"GS2W\"),\n",
    "        rSigRnx(\"EC1C\"), rSigRnx(\"EC5Q\"),\n",
    "        rSigRnx(\"EL1C\"), rSigRnx(\"EL5Q\"),\n",
    "        rSigRnx(\"ES1C\"), rSigRnx(\"ES5Q\"),\n",
    "        rSigRnx(\"JC1C\"), rSigRnx(\"JC2L\"),\n",
    "        rSigRnx(\"JL1C\"), rSigRnx(\"JL2L\"),\n",
    "        rSigRnx(\"JS1C\"), rSigRnx(\"JS2L\")]\n",
    "\n",
    "atxfile = 'cssrlib-data/data/igs20.atx'"
   ]
  },
  {
   "cell_type": "markdown",
   "id": "-CjlD8OGKt7I",
   "metadata": {
    "id": "-CjlD8OGKt7I"
   },
   "source": [
    "Load and parse the input data"
   ]
  },
  {
   "cell_type": "code",
   "execution_count": 111,
   "id": "Z-oB0iDWKt7I",
   "metadata": {
    "id": "Z-oB0iDWKt7I"
   },
   "outputs": [],
   "source": [
    "rnx = rnxdec()\n",
    "rnx.setSignals(sigs)\n",
    "\n",
    "nav = Nav()\n",
    "nav.pmode = 0 # Positioning mode: 0:static, 1:kinematic\n",
    "\n",
    "# Decode RINEX NAV data\n",
    "nav = rnx.decode_nav(navfile, nav)\n",
    "\n",
    "# Load PPP corrections\n",
    "v = np.genfromtxt(file_l6, dtype=dtype)\n",
    "\n",
    "cs = cssr('madoca_cssr.log')\n",
    "cs.cssrmode = sc.QZS_MADOCA\n",
    "cs.monlevel = 0\n",
    "\n",
    "# Load ANTEX data for satellites and stations\n",
    "atx = atxdec()\n",
    "atx.readpcv(atxfile)\n",
    "\n",
    "nav.monlevel = 0  # Logging level\n",
    "\n",
    "# Load RINEX OBS file header\n",
    "if rnx.decode_obsh(obsfile) >= 0:\n",
    "\n",
    "    # Auto-substitute signals\n",
    "    rnx.autoSubstituteSignals()\n",
    "\n",
    "    # Initialize position\n",
    "    rr = rnx.pos\n",
    "    pos = ecef2pos(rr)\n",
    "    ppp = pppos(nav, rnx.pos, 'test_pppmdc.log')\n",
    "    nav.elmin = np.deg2rad(5.0)\n",
    "    nav.glo_ch = rnx.glo_ch\n",
    "\n",
    "    # Set PCO/PCV information\n",
    "    nav.sat_ant = atx.pcvs\n",
    "    nav.rcv_ant = searchpcv(atx.pcvr, rnx.ant,  rnx.ts)"
   ]
  },
  {
   "cell_type": "markdown",
   "id": "jHYIRQokKt7J",
   "metadata": {
    "id": "jHYIRQokKt7J"
   },
   "source": [
    "Print the available satellite signals"
   ]
  },
  {
   "cell_type": "code",
   "execution_count": 112,
   "id": "NqhVIdPgKt7J",
   "metadata": {
    "colab": {
     "base_uri": "https://localhost:8080/"
    },
    "id": "NqhVIdPgKt7J",
    "outputId": "2ea50f20-ffed-4da0-f7c7-83d0de604e57"
   },
   "outputs": [
    {
     "name": "stdout",
     "output_type": "stream",
     "text": [
      "Available signals\n",
      "GPS     C1C L1C D1C S1C C1W S1W C2W L2W D2W S2W C2L L2L D2L S2L C5Q L5Q D5Q S5Q C1L L1L D1L S1L\n",
      "GALILEO C1C L1C D1C S1C C6C L6C D6C S6C C5Q L5Q D5Q S5Q C7Q L7Q D7Q S7Q C8Q L8Q D8Q S8Q\n",
      "SBAS    C1C L1C D1C S1C C5I L5I D5I S5I\n",
      "GLONASS C1C L1C D1C S1C C1P L1P D1P S1P C2P L2P D2P S2P C2C L2C D2C S2C C3Q L3Q D3Q S3Q\n",
      "BEIDOU  C1P L1P D1P S1P C5P L5P D5P S5P C2I L2I D2I S2I C7I L7I D7I S7I C6I L6I D6I S6I C7D L7D D7D S7D\n",
      "QZSS    C1C L1C D1C S1C C2L L2L D2L S2L C5Q L5Q D5Q S5Q C1L L1L D1L S1L C1Z L1Z D1Z S1Z C5P L5P D5P S5P\n",
      "IRNSS   C5A L5A D5A S5A\n",
      "\n",
      "Selected signals\n",
      "GPS     C1C C2W L1C L2W S1C S2W \n",
      "GALILEO C1C C5Q L1C L5Q S1C S5Q \n",
      "QZSS    C1C C2L L1C L2L S1C S2L \n"
     ]
    }
   ],
   "source": [
    "print(\"Available signals\")\n",
    "for sys, sigs in rnx.sig_map.items():\n",
    "  txt = \"{:7s} {}\".format(sys2str(sys),\n",
    "        ' '.join([sig.str() for sig in sigs.values()]))\n",
    "  print(txt)\n",
    "\n",
    "print(\"\\nSelected signals\")\n",
    "for sys, tmp in rnx.sig_tab.items():\n",
    "  txt = \"{:7s} \".format(sys2str(sys))\n",
    "  for _, sigs in tmp.items():\n",
    "    txt += \"{} \".format(' '.join([sig.str() for sig in sigs]))\n",
    "  print(txt)"
   ]
  },
  {
   "cell_type": "markdown",
   "id": "zDhWQUZAKt7J",
   "metadata": {
    "id": "zDhWQUZAKt7J"
   },
   "source": [
    "Process data for 10 minutes (ok to abort before finished)"
   ]
  },
  {
   "cell_type": "code",
   "execution_count": 113,
   "id": "tjGh4fpZKt7J",
   "metadata": {
    "colab": {
     "base_uri": "https://localhost:8080/"
    },
    "id": "tjGh4fpZKt7J",
    "outputId": "fc918566-9605-46ef-858c-658c7426fc8e"
   },
   "outputs": [
    {
     "name": "stdout",
     "output_type": "stream",
     "text": [
      " 2023-08-11 21:15:00 ENU   0.001  -0.082  -0.019, 2D  0.082, mode 5"
     ]
    }
   ],
   "source": [
    "nep = 15 * 60  # increase this to run longer\n",
    "\n",
    "# Intialize data structures for results\n",
    "t = np.zeros(nep)\n",
    "enu = np.ones((nep, 3))*np.nan\n",
    "sol = np.zeros((nep, 4))\n",
    "ztd = np.zeros((nep, 1))\n",
    "smode = np.zeros(nep, dtype=int)\n",
    "\n",
    "# Skip epochs until start time\n",
    "obs = rnx.decode_obs()\n",
    "while time > obs.t and obs.t.time != 0:\n",
    "    obs = rnx.decode_obs()\n",
    "\n",
    "# Loop over number of epoch from file start\n",
    "for ne in range(nep):\n",
    "    week, tow = time2gpst(obs.t)\n",
    "    cs.week = week\n",
    "    cs.tow0 = tow // 3600*3600\n",
    "\n",
    "    # Set initial epoch\n",
    "    if ne == 0:\n",
    "        nav.t = deepcopy(obs.t)\n",
    "        t0 = deepcopy(obs.t)\n",
    "        t0.time = t0.time//30*30\n",
    "        nav.time_p = t0\n",
    "\n",
    "    vi = v[(v['tow'] == tow) & (v['type'] == l6_ch)\n",
    "           & (v['prn'] == prn_ref)]\n",
    "    if len(vi) > 0:\n",
    "      msg = unhexlify(vi['nav'][0])\n",
    "      cs.decode_l6msg(msg, 0)\n",
    "      if cs.fcnt == 5:  # end of sub-frame\n",
    "          cs.decode_cssr(cs.buff, 0)\n",
    "\n",
    "    # Call PPP module\n",
    "    if (cs.lc[0].cstat & 0xf) == 0xf:\n",
    "        ppp.process(obs, cs=cs)\n",
    "\n",
    "    # Save output\n",
    "    t[ne] = timediff(nav.t, t0) / 86400.0\n",
    "    sol = nav.xa[0:3] if nav.smode == 4 else nav.x[0:3]\n",
    "    enu[ne, :] = gn.ecef2enu(pos_ref, sol-xyz_ref)\n",
    "    ztd[ne] = nav.xa[ppp.IT(nav.na)] if nav.smode == 4 else nav.x[ppp.IT(nav.na)]\n",
    "    smode[ne] = nav.smode\n",
    "\n",
    "    # Log to standard output\n",
    "    stdout.write('\\r {} ENU {:7.3f} {:7.3f} {:7.3f}, 2D {:6.3f}, mode {:1d}'\n",
    "                 .format(time2str(obs.t),\n",
    "                         enu[ne, 0], enu[ne, 1], enu[ne, 2],\n",
    "                         np.sqrt(enu[ne, 0]**2+enu[ne, 1]**2),\n",
    "                         smode[ne]))\n",
    "\n",
    "    # Get new epoch, exit after last epoch\n",
    "    obs = rnx.decode_obs()\n",
    "    if obs.t.time == 0:\n",
    "        break"
   ]
  },
  {
   "cell_type": "markdown",
   "id": "JvZIeMofKt7K",
   "metadata": {
    "id": "JvZIeMofKt7K"
   },
   "source": [
    "Plot results"
   ]
  },
  {
   "cell_type": "code",
   "execution_count": 114,
   "id": "PHo6f5f1Kt7K",
   "metadata": {
    "colab": {
     "base_uri": "https://localhost:8080/",
     "height": 795
    },
    "id": "PHo6f5f1Kt7K",
    "outputId": "831cb237-f64e-4564-bfa1-ac19b2ae4451"
   },
   "outputs": [
    {
     "data": {
      "text/plain": [
       "<matplotlib.legend.Legend at 0x2e2a80d6150>"
      ]
     },
     "execution_count": 114,
     "metadata": {},
     "output_type": "execute_result"
    },
    {
     "data": {
      "image/png": "[encoded data removed]",
      "text/plain": [
       "<Figure size 504x648 with 4 Axes>"
      ]
     },
     "metadata": {},
     "output_type": "display_data"
    }
   ],
   "source": [
    "ylim = 2.0\n",
    "\n",
    "idx4 = np.where(smode == 4)[0]\n",
    "idx5 = np.where(smode == 5)[0]\n",
    "idx0 = np.where(smode == 0)[0]\n",
    "\n",
    "fig = plt.figure(figsize=[7, 9])\n",
    "fig.set_rasterized(True)\n",
    "lbl_t = ['East [m]', 'North [m]', 'Up [m]']\n",
    "fmt = '%H:%M'\n",
    "\n",
    "for k in range(3):\n",
    "    plt.subplot(4, 1, k+1)\n",
    "    plt.plot_date(t[idx0], enu[idx0, k], 'r.')\n",
    "    plt.plot_date(t[idx5], enu[idx5, k], 'y.')\n",
    "    plt.plot_date(t[idx4], enu[idx4, k], 'g.')\n",
    "\n",
    "    plt.ylabel(lbl_t[k])\n",
    "    plt.grid()\n",
    "    plt.ylim([-ylim, ylim])\n",
    "    plt.gca().xaxis.set_major_formatter(md.DateFormatter(fmt))\n",
    "\n",
    "plt.subplot(4, 1, 4)\n",
    "plt.plot_date(t[idx0], ztd[idx0]*1e2, 'r.', markersize=8, label='none')\n",
    "plt.plot_date(t[idx5], ztd[idx5]*1e2, 'y.', markersize=8, label='float')\n",
    "plt.plot_date(t[idx4], ztd[idx4]*1e2, 'g.', markersize=8, label='fix')\n",
    "plt.ylabel('ZTD [cm]')\n",
    "plt.grid()\n",
    "plt.gca().xaxis.set_major_formatter(md.DateFormatter(fmt))\n",
    "\n",
    "plt.xlabel('Time [HH:MM]')\n",
    "plt.legend()\n"
   ]
  },
  {
   "cell_type": "markdown",
   "id": "06d4a4ac",
   "metadata": {
    "id": "06d4a4ac"
   },
   "source": [
    "## Reference"
   ]
  },
  {
   "cell_type": "markdown",
   "id": "7d78ff97",
   "metadata": {
    "id": "7d78ff97"
   },
   "source": [
    "- [1] T. Takasu, “RTKLIB: Open Source Program Package for RTK-GPS,” FOSS4G 2009 Tokyo, Japan, 2009.\n",
    "-  Hirokawa, R., Hauschild, A., Everett, T. (2023). Python Toolkit for Open PPP/PPP-RTK Services. In *Proceedings of the 35th International Technical Meeting of the Satellite Division of The Institute of Navigation (ION GNSS+ 2023)*"
   ]
  }
 ],
 "metadata": {
  "colab": {
   "collapsed_sections": [
    "b85900d9",
    "d93de7b9",
    "5a058567",
    "3b8b422e",
    "1c4b06ee",
    "rKUv0nEl8vDm",
    "8993fc13",
    "hPjJOF2T8uxG",
    "nf1Rwd3u8vXK"
   ],
   "provenance": []
  },
  "kernelspec": {
   "display_name": "Python 3 (Spyder)",
   "language": "python3",
   "name": "python3"
  },
  "language_info": {
   "codemirror_mode": {
    "name": "ipython",
    "version": 3
   },
   "file_extension": ".py",
   "mimetype": "text/x-python",
   "name": "python",
   "nbconvert_exporter": "python",
   "pygments_lexer": "ipython3",
   "version": "3.11.7"
  }
 },
 "nbformat": 4,
 "nbformat_minor": 5
}
